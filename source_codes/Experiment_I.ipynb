{
  "nbformat": 4,
  "nbformat_minor": 0,
  "metadata": {
    "colab": {
      "name": "Experiment-I.ipynb",
      "provenance": [],
      "collapsed_sections": [],
      "toc_visible": true
    },
    "kernelspec": {
      "name": "python3",
      "display_name": "Python 3"
    }
  },
  "cells": [
    {
      "cell_type": "markdown",
      "metadata": {
        "id": "ZO66gR2BDPpq",
        "colab_type": "text"
      },
      "source": [
        "# Experiment I\n",
        "This is a experiment of the project *The Relation Between Date Implemented of Policies and The Spreading of COVID-19*. This is all the source code used in the first experiment."
      ]
    },
    {
      "cell_type": "markdown",
      "metadata": {
        "id": "x95cqCeaDZRy",
        "colab_type": "text"
      },
      "source": [
        "## Preparing process"
      ]
    },
    {
      "cell_type": "markdown",
      "metadata": {
        "id": "XJDW3MkqAZf3",
        "colab_type": "text"
      },
      "source": [
        "### Import libraries"
      ]
    },
    {
      "cell_type": "code",
      "metadata": {
        "id": "byOJQgHppxQP",
        "colab_type": "code",
        "colab": {
          "base_uri": "https://localhost:8080/",
          "height": 70
        },
        "outputId": "3e9cc0a7-70f9-4ad7-96ed-cad21b920dff"
      },
      "source": [
        "import pandas as pd\n",
        "import numpy as np\n",
        "from datetime import timedelta, date, datetime\n",
        "from sklearn.preprocessing import MinMaxScaler\n",
        "from sklearn.cluster import KMeans\n",
        "from sklearn.metrics import silhouette_score\n",
        "import matplotlib.pyplot as plt\n",
        "import psycopg2\n",
        "import pandas.io.sql as psql\n",
        "import sqlalchemy"
      ],
      "execution_count": 1,
      "outputs": [
        {
          "output_type": "stream",
          "text": [
            "/usr/local/lib/python3.6/dist-packages/psycopg2/__init__.py:144: UserWarning: The psycopg2 wheel package will be renamed from release 2.8; in order to keep installing from binary please use \"pip install psycopg2-binary\" instead. For details see: <http://initd.org/psycopg/docs/install.html#binary-install-from-pypi>.\n",
            "  \"\"\")\n"
          ],
          "name": "stderr"
        }
      ]
    },
    {
      "cell_type": "markdown",
      "metadata": {
        "id": "soAQiWhRAfJg",
        "colab_type": "text"
      },
      "source": [
        "### Querying data from the database"
      ]
    },
    {
      "cell_type": "code",
      "metadata": {
        "id": "qV9etUyyBtrP",
        "colab_type": "code",
        "colab": {}
      },
      "source": [
        "# Reading database's information from the file\n",
        "f = open('/content/db', 'r')\n",
        "host = f.readline().strip()\n",
        "dbname = f.readline().strip()\n",
        "user = f.readline().strip()\n",
        "password = f.readline().strip()\n",
        "schema = f.readline().strip()\n",
        "database = f.readline().strip()\n",
        "f.close()"
      ],
      "execution_count": 2,
      "outputs": []
    },
    {
      "cell_type": "code",
      "metadata": {
        "id": "SnTQTrhsBOI6",
        "colab_type": "code",
        "colab": {}
      },
      "source": [
        "# Connect to database (Note: The package psychopg2 is required for Postgres to work with SQLAlchemy)\n",
        "engine = sqlalchemy.create_engine(\"postgresql://{}:{}@{}/{}\".format(user, password, host, database))\n",
        "con = engine.connect()"
      ],
      "execution_count": 3,
      "outputs": []
    },
    {
      "cell_type": "code",
      "metadata": {
        "id": "C-CwDmZP2W2d",
        "colab_type": "code",
        "colab": {}
      },
      "source": [
        "noRecovDF = pd.read_sql(\"SELECT * FROM {}.{};\".format(str(schema), \"confirmed_no_recov\"),\n",
        "                        con=engine,\n",
        "                        index_col=\"index\")"
      ],
      "execution_count": 4,
      "outputs": []
    },
    {
      "cell_type": "code",
      "metadata": {
        "id": "K23yhltgdWyf",
        "colab_type": "code",
        "colab": {
          "base_uri": "https://localhost:8080/",
          "height": 228
        },
        "outputId": "0399449a-670e-4dca-c738-c889aff12528"
      },
      "source": [
        "noRecovDF.head()"
      ],
      "execution_count": 5,
      "outputs": [
        {
          "output_type": "execute_result",
          "data": {
            "text/html": [
              "<div>\n",
              "<style scoped>\n",
              "    .dataframe tbody tr th:only-of-type {\n",
              "        vertical-align: middle;\n",
              "    }\n",
              "\n",
              "    .dataframe tbody tr th {\n",
              "        vertical-align: top;\n",
              "    }\n",
              "\n",
              "    .dataframe thead th {\n",
              "        text-align: right;\n",
              "    }\n",
              "</style>\n",
              "<table border=\"1\" class=\"dataframe\">\n",
              "  <thead>\n",
              "    <tr style=\"text-align: right;\">\n",
              "      <th></th>\n",
              "      <th>country_region</th>\n",
              "      <th>province_state</th>\n",
              "      <th>date</th>\n",
              "      <th>confirmed</th>\n",
              "      <th>deaths</th>\n",
              "    </tr>\n",
              "    <tr>\n",
              "      <th>index</th>\n",
              "      <th></th>\n",
              "      <th></th>\n",
              "      <th></th>\n",
              "      <th></th>\n",
              "      <th></th>\n",
              "    </tr>\n",
              "  </thead>\n",
              "  <tbody>\n",
              "    <tr>\n",
              "      <th>0</th>\n",
              "      <td>Afghanistan</td>\n",
              "      <td>-</td>\n",
              "      <td>2020-01-22</td>\n",
              "      <td>0</td>\n",
              "      <td>0</td>\n",
              "    </tr>\n",
              "    <tr>\n",
              "      <th>1</th>\n",
              "      <td>Albania</td>\n",
              "      <td>-</td>\n",
              "      <td>2020-01-22</td>\n",
              "      <td>0</td>\n",
              "      <td>0</td>\n",
              "    </tr>\n",
              "    <tr>\n",
              "      <th>2</th>\n",
              "      <td>Algeria</td>\n",
              "      <td>-</td>\n",
              "      <td>2020-01-22</td>\n",
              "      <td>0</td>\n",
              "      <td>0</td>\n",
              "    </tr>\n",
              "    <tr>\n",
              "      <th>3</th>\n",
              "      <td>Andorra</td>\n",
              "      <td>-</td>\n",
              "      <td>2020-01-22</td>\n",
              "      <td>0</td>\n",
              "      <td>0</td>\n",
              "    </tr>\n",
              "    <tr>\n",
              "      <th>4</th>\n",
              "      <td>Angola</td>\n",
              "      <td>-</td>\n",
              "      <td>2020-01-22</td>\n",
              "      <td>0</td>\n",
              "      <td>0</td>\n",
              "    </tr>\n",
              "  </tbody>\n",
              "</table>\n",
              "</div>"
            ],
            "text/plain": [
              "      country_region province_state        date  confirmed  deaths\n",
              "index                                                             \n",
              "0        Afghanistan              -  2020-01-22          0       0\n",
              "1            Albania              -  2020-01-22          0       0\n",
              "2            Algeria              -  2020-01-22          0       0\n",
              "3            Andorra              -  2020-01-22          0       0\n",
              "4             Angola              -  2020-01-22          0       0"
            ]
          },
          "metadata": {
            "tags": []
          },
          "execution_count": 5
        }
      ]
    },
    {
      "cell_type": "markdown",
      "metadata": {
        "id": "KDRknxS8EVuL",
        "colab_type": "text"
      },
      "source": [
        "### Adapting data"
      ]
    },
    {
      "cell_type": "code",
      "metadata": {
        "id": "Pic_8YVf3HBm",
        "colab_type": "code",
        "colab": {}
      },
      "source": [
        "noRecovDF.loc[noRecovDF.country_region == 'Taiwan*', 'country_region'] = 'Taiwan'"
      ],
      "execution_count": 6,
      "outputs": []
    },
    {
      "cell_type": "code",
      "metadata": {
        "id": "pUcDcOE3HFoI",
        "colab_type": "code",
        "colab": {}
      },
      "source": [
        "# Adding the incremental confirmed cases and deaths of each day\n",
        "noRecovDF[['diff_confirmed', 'diff_deaths']] = noRecovDF[['country_region', 'province_state', 'confirmed', 'deaths']].groupby(['country_region', 'province_state']).diff()\n",
        "noRecovDF = noRecovDF.fillna(0)\n",
        "noRecovDF.loc[noRecovDF.diff_confirmed < 0, 'diff_confirmed'] = 0\n",
        "noRecovDF.loc[noRecovDF.diff_deaths < 0, 'diff_deaths'] = 0\n",
        "noRecovDF = noRecovDF[noRecovDF['country_region'] != 'Diamond Princess']"
      ],
      "execution_count": 7,
      "outputs": []
    },
    {
      "cell_type": "code",
      "metadata": {
        "id": "7joHXsmjTPsF",
        "colab_type": "code",
        "colab": {}
      },
      "source": [
        "noRecovDF = pd.merge(noRecovDF, noRecovDF[noRecovDF['confirmed'] >= 100].groupby(['country_region', 'province_state']).first().date.reset_index(name='start_date'), on=['country_region', 'province_state'])"
      ],
      "execution_count": 8,
      "outputs": []
    },
    {
      "cell_type": "code",
      "metadata": {
        "id": "BiVchUEFJXVB",
        "colab_type": "code",
        "colab": {}
      },
      "source": [
        "# Only looking at those countries when it hits 100 confirmed cases\n",
        "noRecovDF = noRecovDF[noRecovDF['confirmed'] >= 100].reset_index().drop(columns='index')"
      ],
      "execution_count": 9,
      "outputs": []
    },
    {
      "cell_type": "code",
      "metadata": {
        "id": "k8yg8B2sHXLS",
        "colab_type": "code",
        "colab": {}
      },
      "source": [
        "# Adding the max and min of confirmed cases and deaths of each country\n",
        "noRecovDF[['peak_confirmed', 'peak_deaths']] = noRecovDF.groupby(['country_region', 'province_state'])[['diff_confirmed', 'diff_deaths']].transform(max)\n",
        "noRecovDF = pd.merge(noRecovDF, noRecovDF[noRecovDF.diff_confirmed > 0].groupby(['country_region', 'province_state']).min()['diff_confirmed'].rename('min_confirmed'), on=['country_region', 'province_state'])"
      ],
      "execution_count": 10,
      "outputs": []
    },
    {
      "cell_type": "code",
      "metadata": {
        "id": "m-w9XyaMMCln",
        "colab_type": "code",
        "colab": {}
      },
      "source": [
        "# Change column date to datetime\n",
        "noRecovDF['date'] = pd.to_datetime(noRecovDF['date'])"
      ],
      "execution_count": 11,
      "outputs": []
    },
    {
      "cell_type": "code",
      "metadata": {
        "id": "-rFf2qJRZoZs",
        "colab_type": "code",
        "colab": {}
      },
      "source": [
        "temp = noRecovDF[noRecovDF['diff_confirmed'] == noRecovDF['peak_confirmed']].groupby(['country_region', 'province_state']).last()['date'].reset_index(name='date_peak_confirmed')\n",
        "noRecovDF = noRecovDF.merge(temp, on=['country_region', 'province_state'])\n",
        "temp = noRecovDF[noRecovDF['diff_deaths'] == noRecovDF['peak_deaths']].groupby(['country_region', 'province_state']).last()['date'].reset_index(name='date_peak_deaths')\n",
        "noRecovDF = noRecovDF.merge(temp, on=['country_region', 'province_state'])\n",
        "temp = noRecovDF[noRecovDF['diff_confirmed'] == noRecovDF['min_confirmed']].groupby(['country_region', 'province_state']).last()['date'].reset_index(name='date_min_confirmed')\n",
        "noRecovDF = noRecovDF.merge(temp, on=['country_region', 'province_state'])\n",
        "noRecovDF[['before_peak_confirmed']] = noRecovDF[(noRecovDF.date_peak_confirmed - timedelta(days=8) > noRecovDF.date) | (noRecovDF.date_peak_confirmed + timedelta(days=8) < noRecovDF.date)].groupby(['country_region', 'province_state'])[['diff_confirmed']].transform(max)\n",
        "temp = noRecovDF[noRecovDF['diff_confirmed'] == noRecovDF['before_peak_confirmed']].groupby(['country_region', 'province_state']).first()['date'].reset_index(name='date_before_peak_confirmed')\n",
        "noRecovDF = noRecovDF.merge(temp, on=['country_region', 'province_state'])"
      ],
      "execution_count": 12,
      "outputs": []
    },
    {
      "cell_type": "markdown",
      "metadata": {
        "id": "L-eXMUzgGMBM",
        "colab_type": "text"
      },
      "source": [
        "### Create Country Profiles"
      ]
    },
    {
      "cell_type": "code",
      "metadata": {
        "id": "LTaM05-WGzgf",
        "colab_type": "code",
        "colab": {
          "base_uri": "https://localhost:8080/",
          "height": 301
        },
        "outputId": "a7317264-a3aa-42be-e16d-9cd1bbe87050"
      },
      "source": [
        "noRecovDF.head()"
      ],
      "execution_count": 13,
      "outputs": [
        {
          "output_type": "execute_result",
          "data": {
            "text/html": [
              "<div>\n",
              "<style scoped>\n",
              "    .dataframe tbody tr th:only-of-type {\n",
              "        vertical-align: middle;\n",
              "    }\n",
              "\n",
              "    .dataframe tbody tr th {\n",
              "        vertical-align: top;\n",
              "    }\n",
              "\n",
              "    .dataframe thead th {\n",
              "        text-align: right;\n",
              "    }\n",
              "</style>\n",
              "<table border=\"1\" class=\"dataframe\">\n",
              "  <thead>\n",
              "    <tr style=\"text-align: right;\">\n",
              "      <th></th>\n",
              "      <th>country_region</th>\n",
              "      <th>province_state</th>\n",
              "      <th>date</th>\n",
              "      <th>confirmed</th>\n",
              "      <th>deaths</th>\n",
              "      <th>diff_confirmed</th>\n",
              "      <th>diff_deaths</th>\n",
              "      <th>start_date</th>\n",
              "      <th>peak_confirmed</th>\n",
              "      <th>peak_deaths</th>\n",
              "      <th>min_confirmed</th>\n",
              "      <th>date_peak_confirmed</th>\n",
              "      <th>date_peak_deaths</th>\n",
              "      <th>date_min_confirmed</th>\n",
              "      <th>before_peak_confirmed</th>\n",
              "      <th>date_before_peak_confirmed</th>\n",
              "    </tr>\n",
              "  </thead>\n",
              "  <tbody>\n",
              "    <tr>\n",
              "      <th>0</th>\n",
              "      <td>Afghanistan</td>\n",
              "      <td>-</td>\n",
              "      <td>2020-03-27</td>\n",
              "      <td>110</td>\n",
              "      <td>4</td>\n",
              "      <td>16.0</td>\n",
              "      <td>0.0</td>\n",
              "      <td>2020-03-27</td>\n",
              "      <td>915.0</td>\n",
              "      <td>30.0</td>\n",
              "      <td>4.0</td>\n",
              "      <td>2020-06-05</td>\n",
              "      <td>2020-06-07</td>\n",
              "      <td>2020-03-31</td>\n",
              "      <td>782.0</td>\n",
              "      <td>2020-05-23</td>\n",
              "    </tr>\n",
              "    <tr>\n",
              "      <th>1</th>\n",
              "      <td>Afghanistan</td>\n",
              "      <td>-</td>\n",
              "      <td>2020-03-28</td>\n",
              "      <td>110</td>\n",
              "      <td>4</td>\n",
              "      <td>0.0</td>\n",
              "      <td>0.0</td>\n",
              "      <td>2020-03-27</td>\n",
              "      <td>915.0</td>\n",
              "      <td>30.0</td>\n",
              "      <td>4.0</td>\n",
              "      <td>2020-06-05</td>\n",
              "      <td>2020-06-07</td>\n",
              "      <td>2020-03-31</td>\n",
              "      <td>782.0</td>\n",
              "      <td>2020-05-23</td>\n",
              "    </tr>\n",
              "    <tr>\n",
              "      <th>2</th>\n",
              "      <td>Afghanistan</td>\n",
              "      <td>-</td>\n",
              "      <td>2020-03-29</td>\n",
              "      <td>120</td>\n",
              "      <td>4</td>\n",
              "      <td>10.0</td>\n",
              "      <td>0.0</td>\n",
              "      <td>2020-03-27</td>\n",
              "      <td>915.0</td>\n",
              "      <td>30.0</td>\n",
              "      <td>4.0</td>\n",
              "      <td>2020-06-05</td>\n",
              "      <td>2020-06-07</td>\n",
              "      <td>2020-03-31</td>\n",
              "      <td>782.0</td>\n",
              "      <td>2020-05-23</td>\n",
              "    </tr>\n",
              "    <tr>\n",
              "      <th>3</th>\n",
              "      <td>Afghanistan</td>\n",
              "      <td>-</td>\n",
              "      <td>2020-03-30</td>\n",
              "      <td>170</td>\n",
              "      <td>4</td>\n",
              "      <td>50.0</td>\n",
              "      <td>0.0</td>\n",
              "      <td>2020-03-27</td>\n",
              "      <td>915.0</td>\n",
              "      <td>30.0</td>\n",
              "      <td>4.0</td>\n",
              "      <td>2020-06-05</td>\n",
              "      <td>2020-06-07</td>\n",
              "      <td>2020-03-31</td>\n",
              "      <td>782.0</td>\n",
              "      <td>2020-05-23</td>\n",
              "    </tr>\n",
              "    <tr>\n",
              "      <th>4</th>\n",
              "      <td>Afghanistan</td>\n",
              "      <td>-</td>\n",
              "      <td>2020-03-31</td>\n",
              "      <td>174</td>\n",
              "      <td>4</td>\n",
              "      <td>4.0</td>\n",
              "      <td>0.0</td>\n",
              "      <td>2020-03-27</td>\n",
              "      <td>915.0</td>\n",
              "      <td>30.0</td>\n",
              "      <td>4.0</td>\n",
              "      <td>2020-06-05</td>\n",
              "      <td>2020-06-07</td>\n",
              "      <td>2020-03-31</td>\n",
              "      <td>782.0</td>\n",
              "      <td>2020-05-23</td>\n",
              "    </tr>\n",
              "  </tbody>\n",
              "</table>\n",
              "</div>"
            ],
            "text/plain": [
              "  country_region  ... date_before_peak_confirmed\n",
              "0    Afghanistan  ...                 2020-05-23\n",
              "1    Afghanistan  ...                 2020-05-23\n",
              "2    Afghanistan  ...                 2020-05-23\n",
              "3    Afghanistan  ...                 2020-05-23\n",
              "4    Afghanistan  ...                 2020-05-23\n",
              "\n",
              "[5 rows x 16 columns]"
            ]
          },
          "metadata": {
            "tags": []
          },
          "execution_count": 13
        }
      ]
    },
    {
      "cell_type": "code",
      "metadata": {
        "id": "TvqxR5SDEMpO",
        "colab_type": "code",
        "colab": {}
      },
      "source": [
        "lastweek = (datetime(2020, 6, 7) - timedelta(days=7))\n",
        "\n",
        "feature1 = noRecovDF.groupby(['country_region', 'province_state']).size().reset_index(name='days')\n",
        "feature2 = noRecovDF.groupby(['country_region', 'province_state']).last()[['confirmed', 'deaths', 'peak_confirmed', 'peak_deaths', 'start_date']]\n",
        "feature3 = noRecovDF.groupby(['country_region', 'province_state']).mean()\n",
        "feature4 = noRecovDF[noRecovDF['date'] >= pd.to_datetime(lastweek)].groupby(['country_region', 'province_state']).mean()\n",
        "feature5 = noRecovDF[noRecovDF['date'] >= noRecovDF['date_peak_confirmed']].groupby(['country_region', 'province_state']).size().reset_index(name='after_peak')\n",
        "feature6 = noRecovDF[noRecovDF['date'] >= noRecovDF['date_min_confirmed']].groupby(['country_region', 'province_state']).size().reset_index(name='after_min')\n",
        "feature7 = noRecovDF[noRecovDF['date'] >= noRecovDF['date_before_peak_confirmed']].groupby(['country_region', 'province_state']).size().reset_index(name='after_expeak')\n",
        "feature8 = noRecovDF[(noRecovDF['date'] >= noRecovDF['date_peak_confirmed'] - timedelta(days=7)) & (noRecovDF['date'] <= noRecovDF['date_peak_confirmed'])]\\\n",
        "            .groupby(['country_region', 'province_state']).mean()['diff_confirmed']\n",
        "feature9 = noRecovDF[(noRecovDF['date'] >= noRecovDF['date_peak_deaths'] - timedelta(days=7)) & (noRecovDF['date'] <= noRecovDF['date_peak_deaths'])]\\\n",
        "            .groupby(['country_region', 'province_state']).mean()['diff_deaths']\n",
        "feature10 = noRecovDF[(noRecovDF['date'] >= noRecovDF['date_min_confirmed'] - timedelta(days=7)) & (noRecovDF['date'] <= noRecovDF['date_min_confirmed'])]\\\n",
        "            .groupby(['country_region', 'province_state']).mean()['diff_confirmed']\n",
        "feature11 = noRecovDF[(noRecovDF['date'] >= noRecovDF['date_before_peak_confirmed'] - timedelta(days=7)) & (noRecovDF['date'] <= noRecovDF['date_before_peak_confirmed'])]\\\n",
        "            .groupby(['country_region', 'province_state']).mean()['diff_confirmed']"
      ],
      "execution_count": 14,
      "outputs": []
    },
    {
      "cell_type": "code",
      "metadata": {
        "id": "rRfR2HhIOmAX",
        "colab_type": "code",
        "colab": {}
      },
      "source": [
        "df = feature2.merge(feature1, on=['country_region', 'province_state'])\n",
        "df = df.merge(feature3[['diff_confirmed', 'diff_deaths']], on=['country_region', 'province_state'])\n",
        "df = df.merge(feature4[['diff_confirmed', 'diff_deaths']], on=['country_region', 'province_state'])\n",
        "df = df.merge(feature5, on=['country_region', 'province_state'])\n",
        "df = df.merge(feature6, on=['country_region', 'province_state'])\n",
        "df = df.merge(feature7, on=['country_region', 'province_state'])\n",
        "df = df.merge(feature8, on=['country_region', 'province_state'])\n",
        "df = df.merge(feature9, on=['country_region', 'province_state'])\n",
        "df = df.merge(feature10, on=['country_region', 'province_state'])\n",
        "df = df.merge(feature11, on=['country_region', 'province_state'])"
      ],
      "execution_count": 15,
      "outputs": []
    },
    {
      "cell_type": "code",
      "metadata": {
        "id": "auFXchIfPAVi",
        "colab_type": "code",
        "colab": {}
      },
      "source": [
        "df['death_rate'] = df['deaths'] / df['confirmed']\n",
        "\n",
        "df.columns = ['country_region', 'province_state', 'confirmed', 'deaths',\n",
        "                    'peak_confirmed', 'peak_deaths', 'start_date', 'days',\n",
        "                    'avg_confirmed', 'avg_deaths', 'c_thisweek', 'd_thisweek', \n",
        "                    'after_peak', 'after_min', 'after_expeak', 'c_maxweek', \n",
        "                    'd_maxweek', 'c_minweek', 'c_beforemax', 'death_rate']\n",
        "\n",
        "df['c_thisweek/avg'] = df['c_thisweek'] / df['avg_confirmed']\n",
        "df['d_thisweek/avg'] = df['d_thisweek'] / df['avg_deaths']\n",
        "df['c_thisweek/peakweek'] = df['c_thisweek'] / df['c_maxweek']\n",
        "df['d_thisweek/peakweek'] = df['d_thisweek'] / df['d_maxweek']\n",
        "df['c_thisweek/beforemax'] = df['c_thisweek'] / df['c_beforemax']\n",
        "profiles = df.fillna(0)"
      ],
      "execution_count": 16,
      "outputs": []
    },
    {
      "cell_type": "code",
      "metadata": {
        "id": "FkYQE0AJOxTD",
        "colab_type": "code",
        "colab": {
          "base_uri": "https://localhost:8080/",
          "height": 218
        },
        "outputId": "1cd8ba85-da25-4931-d87b-daaebdefbbbd"
      },
      "source": [
        "profiles.head()"
      ],
      "execution_count": 17,
      "outputs": [
        {
          "output_type": "execute_result",
          "data": {
            "text/html": [
              "<div>\n",
              "<style scoped>\n",
              "    .dataframe tbody tr th:only-of-type {\n",
              "        vertical-align: middle;\n",
              "    }\n",
              "\n",
              "    .dataframe tbody tr th {\n",
              "        vertical-align: top;\n",
              "    }\n",
              "\n",
              "    .dataframe thead th {\n",
              "        text-align: right;\n",
              "    }\n",
              "</style>\n",
              "<table border=\"1\" class=\"dataframe\">\n",
              "  <thead>\n",
              "    <tr style=\"text-align: right;\">\n",
              "      <th></th>\n",
              "      <th>country_region</th>\n",
              "      <th>province_state</th>\n",
              "      <th>confirmed</th>\n",
              "      <th>deaths</th>\n",
              "      <th>peak_confirmed</th>\n",
              "      <th>peak_deaths</th>\n",
              "      <th>start_date</th>\n",
              "      <th>days</th>\n",
              "      <th>avg_confirmed</th>\n",
              "      <th>avg_deaths</th>\n",
              "      <th>c_thisweek</th>\n",
              "      <th>d_thisweek</th>\n",
              "      <th>after_peak</th>\n",
              "      <th>after_min</th>\n",
              "      <th>after_expeak</th>\n",
              "      <th>c_maxweek</th>\n",
              "      <th>d_maxweek</th>\n",
              "      <th>c_minweek</th>\n",
              "      <th>c_beforemax</th>\n",
              "      <th>death_rate</th>\n",
              "      <th>c_thisweek/avg</th>\n",
              "      <th>d_thisweek/avg</th>\n",
              "      <th>c_thisweek/peakweek</th>\n",
              "      <th>d_thisweek/peakweek</th>\n",
              "      <th>c_thisweek/beforemax</th>\n",
              "    </tr>\n",
              "  </thead>\n",
              "  <tbody>\n",
              "    <tr>\n",
              "      <th>0</th>\n",
              "      <td>Afghanistan</td>\n",
              "      <td>-</td>\n",
              "      <td>20342</td>\n",
              "      <td>357</td>\n",
              "      <td>915.0</td>\n",
              "      <td>30.0</td>\n",
              "      <td>2020-03-27</td>\n",
              "      <td>73</td>\n",
              "      <td>277.369863</td>\n",
              "      <td>4.835616</td>\n",
              "      <td>727.125</td>\n",
              "      <td>13.500</td>\n",
              "      <td>3</td>\n",
              "      <td>69</td>\n",
              "      <td>16</td>\n",
              "      <td>741.625</td>\n",
              "      <td>13.500</td>\n",
              "      <td>16.000000</td>\n",
              "      <td>493.125000</td>\n",
              "      <td>0.017550</td>\n",
              "      <td>2.621500</td>\n",
              "      <td>2.791785</td>\n",
              "      <td>0.980448</td>\n",
              "      <td>1.000000</td>\n",
              "      <td>1.474525</td>\n",
              "    </tr>\n",
              "    <tr>\n",
              "      <th>1</th>\n",
              "      <td>Albania</td>\n",
              "      <td>-</td>\n",
              "      <td>1246</td>\n",
              "      <td>34</td>\n",
              "      <td>34.0</td>\n",
              "      <td>4.0</td>\n",
              "      <td>2020-03-23</td>\n",
              "      <td>77</td>\n",
              "      <td>15.025974</td>\n",
              "      <td>0.415584</td>\n",
              "      <td>15.500</td>\n",
              "      <td>0.125</td>\n",
              "      <td>44</td>\n",
              "      <td>20</td>\n",
              "      <td>65</td>\n",
              "      <td>21.625</td>\n",
              "      <td>1.375</td>\n",
              "      <td>9.625000</td>\n",
              "      <td>18.375000</td>\n",
              "      <td>0.027287</td>\n",
              "      <td>1.031547</td>\n",
              "      <td>0.300781</td>\n",
              "      <td>0.716763</td>\n",
              "      <td>0.090909</td>\n",
              "      <td>0.843537</td>\n",
              "    </tr>\n",
              "    <tr>\n",
              "      <th>2</th>\n",
              "      <td>Algeria</td>\n",
              "      <td>-</td>\n",
              "      <td>10154</td>\n",
              "      <td>707</td>\n",
              "      <td>199.0</td>\n",
              "      <td>30.0</td>\n",
              "      <td>2020-03-21</td>\n",
              "      <td>79</td>\n",
              "      <td>127.392405</td>\n",
              "      <td>8.810127</td>\n",
              "      <td>110.875</td>\n",
              "      <td>7.625</td>\n",
              "      <td>40</td>\n",
              "      <td>77</td>\n",
              "      <td>22</td>\n",
              "      <td>129.625</td>\n",
              "      <td>22.125</td>\n",
              "      <td>46.666667</td>\n",
              "      <td>182.625000</td>\n",
              "      <td>0.069628</td>\n",
              "      <td>0.870342</td>\n",
              "      <td>0.865481</td>\n",
              "      <td>0.855352</td>\n",
              "      <td>0.344633</td>\n",
              "      <td>0.607118</td>\n",
              "    </tr>\n",
              "    <tr>\n",
              "      <th>3</th>\n",
              "      <td>Andorra</td>\n",
              "      <td>-</td>\n",
              "      <td>852</td>\n",
              "      <td>51</td>\n",
              "      <td>79.0</td>\n",
              "      <td>4.0</td>\n",
              "      <td>2020-03-22</td>\n",
              "      <td>78</td>\n",
              "      <td>9.794872</td>\n",
              "      <td>0.653846</td>\n",
              "      <td>11.000</td>\n",
              "      <td>0.000</td>\n",
              "      <td>6</td>\n",
              "      <td>4</td>\n",
              "      <td>73</td>\n",
              "      <td>10.125</td>\n",
              "      <td>1.375</td>\n",
              "      <td>11.125000</td>\n",
              "      <td>29.833333</td>\n",
              "      <td>0.059859</td>\n",
              "      <td>1.123037</td>\n",
              "      <td>0.000000</td>\n",
              "      <td>1.086420</td>\n",
              "      <td>0.000000</td>\n",
              "      <td>0.368715</td>\n",
              "    </tr>\n",
              "    <tr>\n",
              "      <th>4</th>\n",
              "      <td>Argentina</td>\n",
              "      <td>-</td>\n",
              "      <td>22794</td>\n",
              "      <td>664</td>\n",
              "      <td>983.0</td>\n",
              "      <td>25.0</td>\n",
              "      <td>2020-03-20</td>\n",
              "      <td>80</td>\n",
              "      <td>283.712500</td>\n",
              "      <td>8.262500</td>\n",
              "      <td>822.500</td>\n",
              "      <td>17.000</td>\n",
              "      <td>2</td>\n",
              "      <td>79</td>\n",
              "      <td>11</td>\n",
              "      <td>825.125</td>\n",
              "      <td>13.500</td>\n",
              "      <td>30.500000</td>\n",
              "      <td>677.375000</td>\n",
              "      <td>0.029130</td>\n",
              "      <td>2.899062</td>\n",
              "      <td>2.057489</td>\n",
              "      <td>0.996819</td>\n",
              "      <td>1.259259</td>\n",
              "      <td>1.214246</td>\n",
              "    </tr>\n",
              "  </tbody>\n",
              "</table>\n",
              "</div>"
            ],
            "text/plain": [
              "  country_region province_state  ...  d_thisweek/peakweek  c_thisweek/beforemax\n",
              "0    Afghanistan              -  ...             1.000000              1.474525\n",
              "1        Albania              -  ...             0.090909              0.843537\n",
              "2        Algeria              -  ...             0.344633              0.607118\n",
              "3        Andorra              -  ...             0.000000              0.368715\n",
              "4      Argentina              -  ...             1.259259              1.214246\n",
              "\n",
              "[5 rows x 25 columns]"
            ]
          },
          "metadata": {
            "tags": []
          },
          "execution_count": 17
        }
      ]
    },
    {
      "cell_type": "markdown",
      "metadata": {
        "id": "uQdtTlUcUNZ7",
        "colab_type": "text"
      },
      "source": [
        "## Clustering"
      ]
    },
    {
      "cell_type": "code",
      "metadata": {
        "id": "cqOmGEqlUmBi",
        "colab_type": "code",
        "colab": {
          "base_uri": "https://localhost:8080/",
          "height": 70
        },
        "outputId": "8e5aa917-2d90-43f2-9def-b7e0c538fa30"
      },
      "source": [
        "newDF = profiles.groupby(['country_region', 'province_state'])\\\n",
        "        ['days', 'after_peak', 'c_thisweek/avg', 'c_thisweek/peakweek']\\\n",
        "        .last()"
      ],
      "execution_count": 18,
      "outputs": [
        {
          "output_type": "stream",
          "text": [
            "/usr/local/lib/python3.6/dist-packages/ipykernel_launcher.py:1: FutureWarning: Indexing with multiple keys (implicitly converted to a tuple of keys) will be deprecated, use a list instead.\n",
            "  \"\"\"Entry point for launching an IPython kernel.\n"
          ],
          "name": "stderr"
        }
      ]
    },
    {
      "cell_type": "markdown",
      "metadata": {
        "id": "RzfUaSCpESlX",
        "colab_type": "text"
      },
      "source": [
        "#### Rescaling features"
      ]
    },
    {
      "cell_type": "code",
      "metadata": {
        "id": "TKXolO4TVTX9",
        "colab_type": "code",
        "colab": {}
      },
      "source": [
        "newDF['after_peak'] = newDF['after_peak'].apply(np.log)\n",
        "newDF['days'] = newDF['days'].apply(np.log)\n",
        "# newDF['confirmed'] = newDF['confirmed'].apply(np.log10)\n",
        "# newDF['after_peak'] = newDF['after_peak'] / newDF['days']\n",
        "# newDF['after_min'] = newDF['after_min'] / newDF['days']\n",
        "# newDF['after_expeak'] = newDF['after_expeak'] / newDF['days']\n",
        "# newDF['after_min'] = newDF['after_min'].apply(np.log)\n",
        "# newDF['after_expeak'] = newDF['after_expeak'].apply(np.log)\n",
        "# newDF = newDF.drop(columns='days')"
      ],
      "execution_count": 19,
      "outputs": []
    },
    {
      "cell_type": "code",
      "metadata": {
        "id": "OuuUwl3bjH1h",
        "colab_type": "code",
        "colab": {
          "base_uri": "https://localhost:8080/",
          "height": 437
        },
        "outputId": "fb9a2841-8357-4ea8-dff1-342c2ff22ccb"
      },
      "source": [
        "newDF"
      ],
      "execution_count": 20,
      "outputs": [
        {
          "output_type": "execute_result",
          "data": {
            "text/html": [
              "<div>\n",
              "<style scoped>\n",
              "    .dataframe tbody tr th:only-of-type {\n",
              "        vertical-align: middle;\n",
              "    }\n",
              "\n",
              "    .dataframe tbody tr th {\n",
              "        vertical-align: top;\n",
              "    }\n",
              "\n",
              "    .dataframe thead th {\n",
              "        text-align: right;\n",
              "    }\n",
              "</style>\n",
              "<table border=\"1\" class=\"dataframe\">\n",
              "  <thead>\n",
              "    <tr style=\"text-align: right;\">\n",
              "      <th></th>\n",
              "      <th></th>\n",
              "      <th>days</th>\n",
              "      <th>after_peak</th>\n",
              "      <th>c_thisweek/avg</th>\n",
              "      <th>c_thisweek/peakweek</th>\n",
              "    </tr>\n",
              "    <tr>\n",
              "      <th>country_region</th>\n",
              "      <th>province_state</th>\n",
              "      <th></th>\n",
              "      <th></th>\n",
              "      <th></th>\n",
              "      <th></th>\n",
              "    </tr>\n",
              "  </thead>\n",
              "  <tbody>\n",
              "    <tr>\n",
              "      <th>Afghanistan</th>\n",
              "      <th>-</th>\n",
              "      <td>4.290459</td>\n",
              "      <td>1.098612</td>\n",
              "      <td>2.621500</td>\n",
              "      <td>0.980448</td>\n",
              "    </tr>\n",
              "    <tr>\n",
              "      <th>Albania</th>\n",
              "      <th>-</th>\n",
              "      <td>4.343805</td>\n",
              "      <td>3.784190</td>\n",
              "      <td>1.031547</td>\n",
              "      <td>0.716763</td>\n",
              "    </tr>\n",
              "    <tr>\n",
              "      <th>Algeria</th>\n",
              "      <th>-</th>\n",
              "      <td>4.369448</td>\n",
              "      <td>3.688879</td>\n",
              "      <td>0.870342</td>\n",
              "      <td>0.855352</td>\n",
              "    </tr>\n",
              "    <tr>\n",
              "      <th>Andorra</th>\n",
              "      <th>-</th>\n",
              "      <td>4.356709</td>\n",
              "      <td>1.791759</td>\n",
              "      <td>1.123037</td>\n",
              "      <td>1.086420</td>\n",
              "    </tr>\n",
              "    <tr>\n",
              "      <th>Argentina</th>\n",
              "      <th>-</th>\n",
              "      <td>4.382027</td>\n",
              "      <td>0.693147</td>\n",
              "      <td>2.899062</td>\n",
              "      <td>0.996819</td>\n",
              "    </tr>\n",
              "    <tr>\n",
              "      <th>...</th>\n",
              "      <th>...</th>\n",
              "      <td>...</td>\n",
              "      <td>...</td>\n",
              "      <td>...</td>\n",
              "      <td>...</td>\n",
              "    </tr>\n",
              "    <tr>\n",
              "      <th>Vietnam</th>\n",
              "      <th>-</th>\n",
              "      <td>4.356709</td>\n",
              "      <td>3.218876</td>\n",
              "      <td>0.123418</td>\n",
              "      <td>0.073171</td>\n",
              "    </tr>\n",
              "    <tr>\n",
              "      <th>West Bank and Gaza</th>\n",
              "      <th>-</th>\n",
              "      <td>4.262680</td>\n",
              "      <td>4.189655</td>\n",
              "      <td>0.593249</td>\n",
              "      <td>0.195312</td>\n",
              "    </tr>\n",
              "    <tr>\n",
              "      <th>Yemen</th>\n",
              "      <th>-</th>\n",
              "      <td>3.178054</td>\n",
              "      <td>1.791759</td>\n",
              "      <td>1.308271</td>\n",
              "      <td>1.048193</td>\n",
              "    </tr>\n",
              "    <tr>\n",
              "      <th>Zambia</th>\n",
              "      <th>-</th>\n",
              "      <td>3.663562</td>\n",
              "      <td>3.218876</td>\n",
              "      <td>0.157258</td>\n",
              "      <td>0.062992</td>\n",
              "    </tr>\n",
              "    <tr>\n",
              "      <th>Zimbabwe</th>\n",
              "      <th>-</th>\n",
              "      <td>2.484907</td>\n",
              "      <td>2.484907</td>\n",
              "      <td>0.716814</td>\n",
              "      <td>0.177632</td>\n",
              "    </tr>\n",
              "  </tbody>\n",
              "</table>\n",
              "<p>260 rows × 4 columns</p>\n",
              "</div>"
            ],
            "text/plain": [
              "                                       days  ...  c_thisweek/peakweek\n",
              "country_region     province_state            ...                     \n",
              "Afghanistan        -               4.290459  ...             0.980448\n",
              "Albania            -               4.343805  ...             0.716763\n",
              "Algeria            -               4.369448  ...             0.855352\n",
              "Andorra            -               4.356709  ...             1.086420\n",
              "Argentina          -               4.382027  ...             0.996819\n",
              "...                                     ...  ...                  ...\n",
              "Vietnam            -               4.356709  ...             0.073171\n",
              "West Bank and Gaza -               4.262680  ...             0.195312\n",
              "Yemen              -               3.178054  ...             1.048193\n",
              "Zambia             -               3.663562  ...             0.062992\n",
              "Zimbabwe           -               2.484907  ...             0.177632\n",
              "\n",
              "[260 rows x 4 columns]"
            ]
          },
          "metadata": {
            "tags": []
          },
          "execution_count": 20
        }
      ]
    },
    {
      "cell_type": "markdown",
      "metadata": {
        "id": "TUR_R8esCbQF",
        "colab_type": "text"
      },
      "source": [
        "### Silhouettle Score\n",
        "This process might take a few seconds since I use forloop to generate the average score of Silhouette."
      ]
    },
    {
      "cell_type": "code",
      "metadata": {
        "id": "e18nJevVUXRb",
        "colab_type": "code",
        "colab": {
          "base_uri": "https://localhost:8080/",
          "height": 284
        },
        "outputId": "2e85c3f2-4644-4bd1-ee52-0a00bec142b9"
      },
      "source": [
        "mms = MinMaxScaler()\n",
        "scaled = pd.DataFrame(mms.fit_transform(newDF),\n",
        "                      columns=newDF.columns,\n",
        "                      index=newDF.index)\n",
        "\n",
        "value = {}\n",
        "for i in range(10):\n",
        "  w = []\n",
        "  for k in np.arange(2, 10, 1):\n",
        "    model = KMeans(n_clusters=k, n_jobs=-1).fit(scaled)\n",
        "    preds = model.predict(scaled)\n",
        "    silhouette = silhouette_score(scaled, preds)\n",
        "    w.append(silhouette)\n",
        "    if i == 0:\n",
        "      value[k] = silhouette\n",
        "    else:\n",
        "      value[k] = (value[k] * i + silhouette) / (i + 1)\n",
        "w = [x[1] for x in value.items()]\n",
        "  \n",
        "plt.plot(np.arange(2, 10, 1), w)\n",
        "plt.ylabel('Silhouette score', fontsize=15)\n",
        "plt.xlabel('Number of clusters', fontsize=15)\n",
        "plt.grid()\n",
        "plt.savefig('silhouettle.png')"
      ],
      "execution_count": 21,
      "outputs": [
        {
          "output_type": "display_data",
          "data": {
            "image/png": "[encoded data removed]",
            "text/plain": [
              "<Figure size 432x288 with 1 Axes>"
            ]
          },
          "metadata": {
            "tags": [],
            "needs_background": "light"
          }
        }
      ]
    },
    {
      "cell_type": "code",
      "metadata": {
        "id": "726G8FMuW0VF",
        "colab_type": "code",
        "colab": {
          "base_uri": "https://localhost:8080/",
          "height": 167
        },
        "outputId": "cc831f9f-27cb-460e-8954-0f4c24bf057a"
      },
      "source": [
        "print('Scores:')\n",
        "{k: v for k, v in sorted(value.items(), key=lambda item: item[1])}"
      ],
      "execution_count": 22,
      "outputs": [
        {
          "output_type": "stream",
          "text": [
            "Scores:\n"
          ],
          "name": "stdout"
        },
        {
          "output_type": "execute_result",
          "data": {
            "text/plain": [
              "{2: 0.5052970884220224,\n",
              " 3: 0.4270895429070098,\n",
              " 4: 0.45155571852251575,\n",
              " 5: 0.425238041569001,\n",
              " 6: 0.3677361399936962,\n",
              " 7: 0.36752270755960254,\n",
              " 8: 0.37836346360995843,\n",
              " 9: 0.3816877978572896}"
            ]
          },
          "metadata": {
            "tags": []
          },
          "execution_count": 22
        }
      ]
    },
    {
      "cell_type": "markdown",
      "metadata": {
        "id": "w6fa6lNyCw0f",
        "colab_type": "text"
      },
      "source": [
        "### K-Mean"
      ]
    },
    {
      "cell_type": "markdown",
      "metadata": {
        "id": "_r0sV6bHCl50",
        "colab_type": "text"
      },
      "source": [
        "#### Selecting the number of clusters"
      ]
    },
    {
      "cell_type": "code",
      "metadata": {
        "id": "z61JiUI1H21W",
        "colab_type": "code",
        "colab": {}
      },
      "source": [
        "n_clusters = 4"
      ],
      "execution_count": 23,
      "outputs": []
    },
    {
      "cell_type": "code",
      "metadata": {
        "id": "s-fGev4aUXPq",
        "colab_type": "code",
        "colab": {}
      },
      "source": [
        "cls = KMeans(n_clusters=n_clusters, n_jobs=-1, random_state=42)\n",
        "cls.fit(scaled)\n",
        "\n",
        "model = KMeans(n_clusters=n_clusters).fit(scaled)\n",
        "cluster = scaled.copy()\n",
        "cluster['CLUSTER'] = cls.labels_"
      ],
      "execution_count": 24,
      "outputs": []
    },
    {
      "cell_type": "markdown",
      "metadata": {
        "id": "qUV7ax_pC4C3",
        "colab_type": "text"
      },
      "source": [
        "#### Heatmap"
      ]
    },
    {
      "cell_type": "code",
      "metadata": {
        "id": "bDOdIcUvUXMI",
        "colab_type": "code",
        "colab": {
          "base_uri": "https://localhost:8080/",
          "height": 799
        },
        "outputId": "2351076f-57d7-489e-a7ff-99ded467f3ae"
      },
      "source": [
        "centroid = pd.DataFrame(model.cluster_centers_, columns=scaled.columns)\n",
        "import seaborn as sns\n",
        "# sns.set(font_scale=1.5)\n",
        "map = sns.clustermap(centroid, cmap='RdYlBu')\n",
        "map.savefig('clustermap.png', dpi=400)\n",
        "map"
      ],
      "execution_count": 25,
      "outputs": [
        {
          "output_type": "stream",
          "text": [
            "/usr/local/lib/python3.6/dist-packages/statsmodels/tools/_testing.py:19: FutureWarning: pandas.util.testing is deprecated. Use the functions in the public API at pandas.testing instead.\n",
            "  import pandas.util.testing as tm\n"
          ],
          "name": "stderr"
        },
        {
          "output_type": "execute_result",
          "data": {
            "text/plain": [
              "<seaborn.matrix.ClusterGrid at 0x7fa1df761358>"
            ]
          },
          "metadata": {
            "tags": []
          },
          "execution_count": 25
        },
        {
          "output_type": "display_data",
          "data": {
            "image/png": "[encoded data removed]",
            "text/plain": [
              "<Figure size 720x720 with 4 Axes>"
            ]
          },
          "metadata": {
            "tags": [],
            "needs_background": "light"
          }
        }
      ]
    },
    {
      "cell_type": "markdown",
      "metadata": {
        "id": "_GAJcK02C8-B",
        "colab_type": "text"
      },
      "source": [
        "#### Clusters details"
      ]
    },
    {
      "cell_type": "code",
      "metadata": {
        "id": "0K4gVDZPkizi",
        "colab_type": "code",
        "colab": {}
      },
      "source": [
        "temp = profiles.merge(cluster['CLUSTER'], on=['country_region', 'province_state'])\n",
        "fig = temp[cluster.columns]\\\n",
        "        .groupby(\"CLUSTER\").mean()\\\n",
        "        .merge(\n",
        "            cluster.groupby(\"CLUSTER\").size().reset_index(name='Size'), \n",
        "            on=['CLUSTER'])"
      ],
      "execution_count": 26,
      "outputs": []
    },
    {
      "cell_type": "code",
      "metadata": {
        "id": "RKXAjTVhFy3_",
        "colab_type": "code",
        "colab": {
          "base_uri": "https://localhost:8080/",
          "height": 168
        },
        "outputId": "9ba4b050-9c70-4949-d59f-f8da72d27fa7"
      },
      "source": [
        "fig"
      ],
      "execution_count": 27,
      "outputs": [
        {
          "output_type": "execute_result",
          "data": {
            "text/html": [
              "<div>\n",
              "<style scoped>\n",
              "    .dataframe tbody tr th:only-of-type {\n",
              "        vertical-align: middle;\n",
              "    }\n",
              "\n",
              "    .dataframe tbody tr th {\n",
              "        vertical-align: top;\n",
              "    }\n",
              "\n",
              "    .dataframe thead th {\n",
              "        text-align: right;\n",
              "    }\n",
              "</style>\n",
              "<table border=\"1\" class=\"dataframe\">\n",
              "  <thead>\n",
              "    <tr style=\"text-align: right;\">\n",
              "      <th></th>\n",
              "      <th>CLUSTER</th>\n",
              "      <th>days</th>\n",
              "      <th>after_peak</th>\n",
              "      <th>c_thisweek/avg</th>\n",
              "      <th>c_thisweek/peakweek</th>\n",
              "      <th>Size</th>\n",
              "    </tr>\n",
              "  </thead>\n",
              "  <tbody>\n",
              "    <tr>\n",
              "      <th>0</th>\n",
              "      <td>0</td>\n",
              "      <td>72.500000</td>\n",
              "      <td>4.822581</td>\n",
              "      <td>2.338668</td>\n",
              "      <td>1.118818</td>\n",
              "      <td>62</td>\n",
              "    </tr>\n",
              "    <tr>\n",
              "      <th>1</th>\n",
              "      <td>1</td>\n",
              "      <td>73.868852</td>\n",
              "      <td>31.180328</td>\n",
              "      <td>1.148792</td>\n",
              "      <td>0.856508</td>\n",
              "      <td>61</td>\n",
              "    </tr>\n",
              "    <tr>\n",
              "      <th>2</th>\n",
              "      <td>2</td>\n",
              "      <td>89.428571</td>\n",
              "      <td>72.672269</td>\n",
              "      <td>0.249844</td>\n",
              "      <td>0.105809</td>\n",
              "      <td>119</td>\n",
              "    </tr>\n",
              "    <tr>\n",
              "      <th>3</th>\n",
              "      <td>3</td>\n",
              "      <td>28.500000</td>\n",
              "      <td>18.888889</td>\n",
              "      <td>0.583330</td>\n",
              "      <td>0.294252</td>\n",
              "      <td>18</td>\n",
              "    </tr>\n",
              "  </tbody>\n",
              "</table>\n",
              "</div>"
            ],
            "text/plain": [
              "   CLUSTER       days  after_peak  c_thisweek/avg  c_thisweek/peakweek  Size\n",
              "0        0  72.500000    4.822581        2.338668             1.118818    62\n",
              "1        1  73.868852   31.180328        1.148792             0.856508    61\n",
              "2        2  89.428571   72.672269        0.249844             0.105809   119\n",
              "3        3  28.500000   18.888889        0.583330             0.294252    18"
            ]
          },
          "metadata": {
            "tags": []
          },
          "execution_count": 27
        }
      ]
    },
    {
      "cell_type": "code",
      "metadata": {
        "id": "fcn5-oJWzhCP",
        "colab_type": "code",
        "colab": {
          "base_uri": "https://localhost:8080/",
          "height": 198
        },
        "outputId": "08fc9359-1733-49b4-d0f3-c2c2ca484062"
      },
      "source": [
        "columns = ['country_region', 'province_state'] + list(cluster.columns)\n",
        "temp[temp.CLUSTER == 0][columns].head()"
      ],
      "execution_count": 28,
      "outputs": [
        {
          "output_type": "execute_result",
          "data": {
            "text/html": [
              "<div>\n",
              "<style scoped>\n",
              "    .dataframe tbody tr th:only-of-type {\n",
              "        vertical-align: middle;\n",
              "    }\n",
              "\n",
              "    .dataframe tbody tr th {\n",
              "        vertical-align: top;\n",
              "    }\n",
              "\n",
              "    .dataframe thead th {\n",
              "        text-align: right;\n",
              "    }\n",
              "</style>\n",
              "<table border=\"1\" class=\"dataframe\">\n",
              "  <thead>\n",
              "    <tr style=\"text-align: right;\">\n",
              "      <th></th>\n",
              "      <th>country_region</th>\n",
              "      <th>province_state</th>\n",
              "      <th>days</th>\n",
              "      <th>after_peak</th>\n",
              "      <th>c_thisweek/avg</th>\n",
              "      <th>c_thisweek/peakweek</th>\n",
              "      <th>CLUSTER</th>\n",
              "    </tr>\n",
              "  </thead>\n",
              "  <tbody>\n",
              "    <tr>\n",
              "      <th>0</th>\n",
              "      <td>Afghanistan</td>\n",
              "      <td>-</td>\n",
              "      <td>73</td>\n",
              "      <td>3</td>\n",
              "      <td>2.621500</td>\n",
              "      <td>0.980448</td>\n",
              "      <td>0</td>\n",
              "    </tr>\n",
              "    <tr>\n",
              "      <th>3</th>\n",
              "      <td>Andorra</td>\n",
              "      <td>-</td>\n",
              "      <td>78</td>\n",
              "      <td>6</td>\n",
              "      <td>1.123037</td>\n",
              "      <td>1.086420</td>\n",
              "      <td>0</td>\n",
              "    </tr>\n",
              "    <tr>\n",
              "      <th>4</th>\n",
              "      <td>Argentina</td>\n",
              "      <td>-</td>\n",
              "      <td>80</td>\n",
              "      <td>2</td>\n",
              "      <td>2.899062</td>\n",
              "      <td>0.996819</td>\n",
              "      <td>0</td>\n",
              "    </tr>\n",
              "    <tr>\n",
              "      <th>5</th>\n",
              "      <td>Armenia</td>\n",
              "      <td>-</td>\n",
              "      <td>81</td>\n",
              "      <td>1</td>\n",
              "      <td>3.261948</td>\n",
              "      <td>1.000000</td>\n",
              "      <td>0</td>\n",
              "    </tr>\n",
              "    <tr>\n",
              "      <th>14</th>\n",
              "      <td>Azerbaijan</td>\n",
              "      <td>-</td>\n",
              "      <td>74</td>\n",
              "      <td>2</td>\n",
              "      <td>2.860556</td>\n",
              "      <td>1.025333</td>\n",
              "      <td>0</td>\n",
              "    </tr>\n",
              "  </tbody>\n",
              "</table>\n",
              "</div>"
            ],
            "text/plain": [
              "   country_region province_state  ...  c_thisweek/peakweek  CLUSTER\n",
              "0     Afghanistan              -  ...             0.980448        0\n",
              "3         Andorra              -  ...             1.086420        0\n",
              "4       Argentina              -  ...             0.996819        0\n",
              "5         Armenia              -  ...             1.000000        0\n",
              "14     Azerbaijan              -  ...             1.025333        0\n",
              "\n",
              "[5 rows x 7 columns]"
            ]
          },
          "metadata": {
            "tags": []
          },
          "execution_count": 28
        }
      ]
    },
    {
      "cell_type": "markdown",
      "metadata": {
        "id": "XVxYd0yhfpvc",
        "colab_type": "text"
      },
      "source": [
        "## Measures"
      ]
    },
    {
      "cell_type": "code",
      "metadata": {
        "id": "TLLK7t7z2ZSe",
        "colab_type": "code",
        "colab": {}
      },
      "source": [
        "measuresDF = pd.read_sql(\"SELECT * FROM {}.{};\".format(str(schema), \"measures\"),\n",
        "                         con=engine,\n",
        "                         index_col=\"index\")"
      ],
      "execution_count": 29,
      "outputs": []
    },
    {
      "cell_type": "code",
      "metadata": {
        "id": "ycha7OuDvyND",
        "colab_type": "code",
        "colab": {}
      },
      "source": [
        "measuresDF.loc[measuresDF.COUNTRY == 'China, Hong Kong Special Administrative Region', 'ADMIN_LEVEL_NAME'] = 'Hong Kong'\n",
        "measuresDF.loc[measuresDF.COUNTRY == 'China, Hong Kong Special Administrative Region', 'COUNTRY'] = 'China'\n",
        "measuresDF.ADMIN_LEVEL_NAME = measuresDF.ADMIN_LEVEL_NAME.str.replace('city', '')\n",
        "measuresDF.ADMIN_LEVEL_NAME = measuresDF.ADMIN_LEVEL_NAME.str.replace('province', '')\n",
        "measuresDF.ADMIN_LEVEL_NAME = measuresDF.ADMIN_LEVEL_NAME.str.replace('Province', '')\n",
        "measuresDF.ADMIN_LEVEL_NAME = measuresDF.ADMIN_LEVEL_NAME.str.replace('ACT', 'Australian Capital Territory')\n",
        "measuresDF.ADMIN_LEVEL_NAME = measuresDF.ADMIN_LEVEL_NAME.str.replace('NSW', 'New South Wales')\n",
        "measuresDF.ADMIN_LEVEL_NAME = measuresDF.ADMIN_LEVEL_NAME.str.replace('Qld', 'Queensland')\n",
        "measuresDF.ADMIN_LEVEL_NAME = measuresDF.ADMIN_LEVEL_NAME.str.replace('SA', 'South Australia')\n",
        "measuresDF.ADMIN_LEVEL_NAME = measuresDF.ADMIN_LEVEL_NAME.str.replace('Tas', 'Tasmania')\n",
        "measuresDF.ADMIN_LEVEL_NAME = measuresDF.ADMIN_LEVEL_NAME.str.replace('Vic', 'Victoria')\n",
        "measuresDF.ADMIN_LEVEL_NAME = measuresDF.ADMIN_LEVEL_NAME.str.replace('WA', 'Western Australia')\n",
        "measuresDF.ADMIN_LEVEL_NAME = measuresDF.ADMIN_LEVEL_NAME.str.replace('Chongquing', 'Chongqing')\n",
        "measuresDF.ADMIN_LEVEL_NAME = measuresDF.ADMIN_LEVEL_NAME.str.replace('Wuhan', 'Hubei')\n",
        "\n",
        "measuresDF.COUNTRY = measuresDF.COUNTRY.str.replace('United States', 'US')\n",
        "measuresDF.ADMIN_LEVEL_NAME = measuresDF.ADMIN_LEVEL_NAME.str.strip()"
      ],
      "execution_count": 30,
      "outputs": []
    },
    {
      "cell_type": "code",
      "metadata": {
        "id": "4-6DVf515pti",
        "colab_type": "code",
        "colab": {}
      },
      "source": [
        "for state in list(profiles[profiles.country_region == 'Australia'].groupby('province_state').groups.keys()):\n",
        "  measuresDF = measuresDF.append(measuresDF[(measuresDF.ADMIN_LEVEL_NAME == '-') & (measuresDF.COUNTRY == 'Australia')].assign(ADMIN_LEVEL_NAME=state))\n",
        "\n",
        "for province in list(profiles[profiles.country_region == 'China'].groupby('province_state').groups.keys()):\n",
        "  measuresDF = measuresDF.append(measuresDF[(measuresDF.ADMIN_LEVEL_NAME == '-') & (measuresDF.COUNTRY == 'China')].assign(ADMIN_LEVEL_NAME=province))\n",
        "\n",
        "for state in list(profiles[profiles.country_region == 'US'].groupby('province_state').groups.keys()):\n",
        "  measuresDF = measuresDF.append(measuresDF[(measuresDF.ADMIN_LEVEL_NAME == '-') & (measuresDF.COUNTRY == 'US')].assign(ADMIN_LEVEL_NAME=state))\n",
        "\n",
        "for province in list(profiles[profiles.country_region == 'Canada'].groupby('province_state').groups.keys()):\n",
        "  measuresDF = measuresDF.append(measuresDF[(measuresDF.ADMIN_LEVEL_NAME == '-') & (measuresDF.COUNTRY == 'Canada')].assign(ADMIN_LEVEL_NAME=province))\n",
        "\n",
        "for state in ['New South Wales', 'Victoria', 'Australian Capital Territory']:\n",
        "  measuresDF.append(measuresDF[(measuresDF.ADMIN_LEVEL_NAME == 'New South Wales, Victoria, Australian Capital Territory') & (measuresDF.COUNTRY == 'Australia')].assign(ADMIN_LEVEL_NAME=state))\n",
        "\n",
        "for state in ['South Australia', 'Western Australia', 'Tasmania']:\n",
        "  measuresDF.append(measuresDF[(measuresDF.ADMIN_LEVEL_NAME == 'South Australia, Western Australia, Tasmania, NT') & (measuresDF.COUNTRY == 'Australia')].assign(ADMIN_LEVEL_NAME=state))\n",
        "\n",
        "for state in ['Victoria', 'Australian Capital Territory']:\n",
        "  measuresDF.append(measuresDF[(measuresDF.ADMIN_LEVEL_NAME == 'Victoria, Australian Capital Territory') & (measuresDF.COUNTRY == 'Australia')].assign(ADMIN_LEVEL_NAME=state))\n",
        "\n",
        "measuresDF = measuresDF[(measuresDF.ADMIN_LEVEL_NAME != 'New South Wales, Victoria, Australian Capital Territory') | (measuresDF.COUNTRY != 'Australia')]\n",
        "measuresDF = measuresDF[(measuresDF.ADMIN_LEVEL_NAME != 'South Australia, Western Australia, Tasmania, NT') | (measuresDF.COUNTRY != 'Australia')]\n",
        "measuresDF = measuresDF[(measuresDF.ADMIN_LEVEL_NAME != 'Victoria, Australian Capital Territory') | (measuresDF.COUNTRY != 'Australia')]\n",
        "measuresDF = measuresDF[(measuresDF.ADMIN_LEVEL_NAME != '-') | (measuresDF.COUNTRY != 'Australia')]\n",
        "measuresDF = measuresDF[(measuresDF.ADMIN_LEVEL_NAME != '-') | (measuresDF.COUNTRY != 'China')]\n",
        "measuresDF = measuresDF[(measuresDF.ADMIN_LEVEL_NAME != '-') | (measuresDF.COUNTRY != 'US')]\n",
        "measuresDF = measuresDF[(measuresDF.ADMIN_LEVEL_NAME != '-') | (measuresDF.COUNTRY != 'Canada')]"
      ],
      "execution_count": 31,
      "outputs": []
    },
    {
      "cell_type": "code",
      "metadata": {
        "id": "y3JQdM2m3jOZ",
        "colab_type": "code",
        "colab": {}
      },
      "source": [
        "df = measuresDF[measuresDF.LOG_TYPE != 'Phase-out measure'].pivot_table(values='DATE_IMPLEMENTED', index=['COUNTRY', 'ADMIN_LEVEL_NAME'], columns='MEASURE', aggfunc='first').fillna('-').reset_index()"
      ],
      "execution_count": 32,
      "outputs": []
    },
    {
      "cell_type": "code",
      "metadata": {
        "id": "-8L9xjrai1cU",
        "colab_type": "code",
        "colab": {}
      },
      "source": [
        "df = df[df['ADMIN_LEVEL_NAME'] != 'King & Flinders Islands']\n",
        "df = df[df['ADMIN_LEVEL_NAME'] != 'Beijing\\'s Chaoyang district']\n",
        "df = df[df['ADMIN_LEVEL_NAME'] != 'City of Suifenhe, Heilongjiang']\n",
        "df = df[df['ADMIN_LEVEL_NAME'] != 'Calais and Dunkirk']\n",
        "df = df[df['ADMIN_LEVEL_NAME'] != 'Bilda + Algiers']\n",
        "df = df[df['ADMIN_LEVEL_NAME'] != 'Clark County, NV']\n",
        "df = df[df['ADMIN_LEVEL_NAME'] != 'NT']\n",
        "df = df[df['ADMIN_LEVEL_NAME'] != 'Shulan']\n",
        "df = df[df['ADMIN_LEVEL_NAME'] != 'Guangzhou']"
      ],
      "execution_count": 33,
      "outputs": []
    },
    {
      "cell_type": "code",
      "metadata": {
        "id": "lZzBpL58ieSZ",
        "colab_type": "code",
        "colab": {}
      },
      "source": [
        "df.loc[df.COUNTRY == 'Thailand', 'lockdown'] = datetime(2020, 3, 22)\n",
        "measuresDF = df"
      ],
      "execution_count": 34,
      "outputs": []
    },
    {
      "cell_type": "code",
      "metadata": {
        "id": "S7kWQmPznx3K",
        "colab_type": "code",
        "colab": {
          "base_uri": "https://localhost:8080/",
          "height": 468
        },
        "outputId": "4fa7dd0e-1773-42f2-c7b8-1d4035d3e024"
      },
      "source": [
        "measuresDF.head()"
      ],
      "execution_count": 35,
      "outputs": [
        {
          "output_type": "execute_result",
          "data": {
            "text/html": [
              "<div>\n",
              "<style scoped>\n",
              "    .dataframe tbody tr th:only-of-type {\n",
              "        vertical-align: middle;\n",
              "    }\n",
              "\n",
              "    .dataframe tbody tr th {\n",
              "        vertical-align: top;\n",
              "    }\n",
              "\n",
              "    .dataframe thead th {\n",
              "        text-align: right;\n",
              "    }\n",
              "</style>\n",
              "<table border=\"1\" class=\"dataframe\">\n",
              "  <thead>\n",
              "    <tr style=\"text-align: right;\">\n",
              "      <th>MEASURE</th>\n",
              "      <th>COUNTRY</th>\n",
              "      <th>ADMIN_LEVEL_NAME</th>\n",
              "      <th>additional health/documents requirements upon arrival</th>\n",
              "      <th>amendments to funeral and burial regulations</th>\n",
              "      <th>awareness campaigns</th>\n",
              "      <th>border checks</th>\n",
              "      <th>border closure</th>\n",
              "      <th>changes in prison-related policies</th>\n",
              "      <th>checkpoints within the country</th>\n",
              "      <th>closure of businesses and public services</th>\n",
              "      <th>complete border closure</th>\n",
              "      <th>curfews</th>\n",
              "      <th>domestic travel restrictions</th>\n",
              "      <th>economic measures</th>\n",
              "      <th>emergency administrative structures activated or established</th>\n",
              "      <th>general recommendations</th>\n",
              "      <th>health screenings in airports and border crossings</th>\n",
              "      <th>humanitarian exemptions</th>\n",
              "      <th>international flights suspension</th>\n",
              "      <th>isolation and quarantine policies</th>\n",
              "      <th>limit product imports/exports</th>\n",
              "      <th>limit public gatherings</th>\n",
              "      <th>lockdown</th>\n",
              "      <th>lockdown of refugee/idp camps or other minorities</th>\n",
              "      <th>mass population testing</th>\n",
              "      <th>military deployment</th>\n",
              "      <th>other public health measures enforced</th>\n",
              "      <th>psychological assistance and medical social work</th>\n",
              "      <th>requirement to wear protective gear in public</th>\n",
              "      <th>schools closure</th>\n",
              "      <th>state of emergency declared</th>\n",
              "      <th>strengthening the public health system</th>\n",
              "      <th>surveillance and monitoring</th>\n",
              "      <th>testing policy</th>\n",
              "      <th>visa restrictions</th>\n",
              "    </tr>\n",
              "  </thead>\n",
              "  <tbody>\n",
              "    <tr>\n",
              "      <th>0</th>\n",
              "      <td>Afghanistan</td>\n",
              "      <td>-</td>\n",
              "      <td>-</td>\n",
              "      <td>-</td>\n",
              "      <td>2020-01-24 00:00:00</td>\n",
              "      <td>2020-02-01 00:00:00</td>\n",
              "      <td>2020-02-24 00:00:00</td>\n",
              "      <td>2020-03-31 00:00:00</td>\n",
              "      <td>-</td>\n",
              "      <td>-</td>\n",
              "      <td>-</td>\n",
              "      <td>-</td>\n",
              "      <td>2020-02-24 00:00:00</td>\n",
              "      <td>-</td>\n",
              "      <td>2020-02-06 00:00:00</td>\n",
              "      <td>2020-02-24 00:00:00</td>\n",
              "      <td>2020-01-26 00:00:00</td>\n",
              "      <td>-</td>\n",
              "      <td>2020-01-27 00:00:00</td>\n",
              "      <td>2020-02-02 00:00:00</td>\n",
              "      <td>2020-03-01 00:00:00</td>\n",
              "      <td>2020-03-12 00:00:00</td>\n",
              "      <td>-</td>\n",
              "      <td>-</td>\n",
              "      <td>-</td>\n",
              "      <td>-</td>\n",
              "      <td>2020-02-20 00:00:00</td>\n",
              "      <td>-</td>\n",
              "      <td>-</td>\n",
              "      <td>2020-03-15 00:00:00</td>\n",
              "      <td>2020-03-20 00:00:00</td>\n",
              "      <td>2020-02-04 00:00:00</td>\n",
              "      <td>2020-02-13 00:00:00</td>\n",
              "      <td>-</td>\n",
              "      <td>-</td>\n",
              "    </tr>\n",
              "    <tr>\n",
              "      <th>1</th>\n",
              "      <td>Albania</td>\n",
              "      <td>-</td>\n",
              "      <td>-</td>\n",
              "      <td>-</td>\n",
              "      <td>2020-03-11 00:00:00</td>\n",
              "      <td>-</td>\n",
              "      <td>2020-03-14 00:00:00</td>\n",
              "      <td>2020-03-23 00:00:00</td>\n",
              "      <td>2020-03-10 00:00:00</td>\n",
              "      <td>2020-03-10 00:00:00</td>\n",
              "      <td>-</td>\n",
              "      <td>2020-03-23 00:00:00</td>\n",
              "      <td>2020-03-13 00:00:00</td>\n",
              "      <td>2020-03-10 00:00:00</td>\n",
              "      <td>2020-03-22 00:00:00</td>\n",
              "      <td>2020-03-22 00:00:00</td>\n",
              "      <td>2020-03-19 00:00:00</td>\n",
              "      <td>-</td>\n",
              "      <td>2020-03-09 00:00:00</td>\n",
              "      <td>2020-03-10 00:00:00</td>\n",
              "      <td>2020-03-08 00:00:00</td>\n",
              "      <td>2020-03-08 00:00:00</td>\n",
              "      <td>2020-04-02 00:00:00</td>\n",
              "      <td>-</td>\n",
              "      <td>-</td>\n",
              "      <td>2020-03-11 00:00:00</td>\n",
              "      <td>2020-01-24 00:00:00</td>\n",
              "      <td>-</td>\n",
              "      <td>-</td>\n",
              "      <td>2020-03-10 00:00:00</td>\n",
              "      <td>2020-04-30 00:00:00</td>\n",
              "      <td>2020-01-24 00:00:00</td>\n",
              "      <td>2020-04-13 00:00:00</td>\n",
              "      <td>-</td>\n",
              "      <td>-</td>\n",
              "    </tr>\n",
              "    <tr>\n",
              "      <th>2</th>\n",
              "      <td>Algeria</td>\n",
              "      <td>-</td>\n",
              "      <td>-</td>\n",
              "      <td>-</td>\n",
              "      <td>2020-03-05 00:00:00</td>\n",
              "      <td>2020-03-12 00:00:00</td>\n",
              "      <td>2020-03-17 00:00:00</td>\n",
              "      <td>-</td>\n",
              "      <td>-</td>\n",
              "      <td>2020-03-16 00:00:00</td>\n",
              "      <td>-</td>\n",
              "      <td>2020-03-23 00:00:00</td>\n",
              "      <td>2020-03-22 00:00:00</td>\n",
              "      <td>-</td>\n",
              "      <td>-</td>\n",
              "      <td>-</td>\n",
              "      <td>-</td>\n",
              "      <td>-</td>\n",
              "      <td>2020-03-20 00:00:00</td>\n",
              "      <td>2020-03-18 00:00:00</td>\n",
              "      <td>-</td>\n",
              "      <td>2020-03-12 00:00:00</td>\n",
              "      <td>2020-04-05 00:00:00</td>\n",
              "      <td>-</td>\n",
              "      <td>-</td>\n",
              "      <td>2020-03-23 00:00:00</td>\n",
              "      <td>-</td>\n",
              "      <td>-</td>\n",
              "      <td>2020-05-23 00:00:00</td>\n",
              "      <td>2020-03-12 00:00:00</td>\n",
              "      <td>-</td>\n",
              "      <td>-</td>\n",
              "      <td>-</td>\n",
              "      <td>-</td>\n",
              "      <td>-</td>\n",
              "    </tr>\n",
              "    <tr>\n",
              "      <th>3</th>\n",
              "      <td>Angola</td>\n",
              "      <td>-</td>\n",
              "      <td>2020-04-09 00:00:00</td>\n",
              "      <td>-</td>\n",
              "      <td>2020-03-11 00:00:00</td>\n",
              "      <td>-</td>\n",
              "      <td>2020-03-27 00:00:00</td>\n",
              "      <td>2020-04-02 00:00:00</td>\n",
              "      <td>-</td>\n",
              "      <td>2020-03-27 00:00:00</td>\n",
              "      <td>-</td>\n",
              "      <td>-</td>\n",
              "      <td>2020-03-27 00:00:00</td>\n",
              "      <td>2020-03-26 00:00:00</td>\n",
              "      <td>2020-04-06 00:00:00</td>\n",
              "      <td>2020-03-22 00:00:00</td>\n",
              "      <td>2020-03-03 00:00:00</td>\n",
              "      <td>-</td>\n",
              "      <td>2020-03-20 00:00:00</td>\n",
              "      <td>2020-02-06 00:00:00</td>\n",
              "      <td>2020-03-27 00:00:00</td>\n",
              "      <td>2020-04-04 00:00:00</td>\n",
              "      <td>2020-04-26 00:00:00</td>\n",
              "      <td>2020-03-26 00:00:00</td>\n",
              "      <td>2020-04-27 00:00:00</td>\n",
              "      <td>-</td>\n",
              "      <td>2020-05-26 00:00:00</td>\n",
              "      <td>-</td>\n",
              "      <td>2020-04-16 00:00:00</td>\n",
              "      <td>2020-03-23 00:00:00</td>\n",
              "      <td>2020-03-27 00:00:00</td>\n",
              "      <td>2020-03-26 00:00:00</td>\n",
              "      <td>2020-05-02 00:00:00</td>\n",
              "      <td>2020-05-09 00:00:00</td>\n",
              "      <td>2020-03-01 00:00:00</td>\n",
              "    </tr>\n",
              "    <tr>\n",
              "      <th>4</th>\n",
              "      <td>Antigua and Barbuda</td>\n",
              "      <td>-</td>\n",
              "      <td>-</td>\n",
              "      <td>2020-03-28 00:00:00</td>\n",
              "      <td>2020-03-03 00:00:00</td>\n",
              "      <td>-</td>\n",
              "      <td>-</td>\n",
              "      <td>2020-03-28 00:00:00</td>\n",
              "      <td>-</td>\n",
              "      <td>2020-03-25 00:00:00</td>\n",
              "      <td>-</td>\n",
              "      <td>2020-03-28 00:00:00</td>\n",
              "      <td>-</td>\n",
              "      <td>2020-03-16 00:00:00</td>\n",
              "      <td>2020-03-16 00:00:00</td>\n",
              "      <td>-</td>\n",
              "      <td>-</td>\n",
              "      <td>-</td>\n",
              "      <td>-</td>\n",
              "      <td>-</td>\n",
              "      <td>-</td>\n",
              "      <td>2020-03-16 00:00:00</td>\n",
              "      <td>2020-04-02 00:00:00</td>\n",
              "      <td>-</td>\n",
              "      <td>-</td>\n",
              "      <td>-</td>\n",
              "      <td>2020-03-28 00:00:00</td>\n",
              "      <td>-</td>\n",
              "      <td>2020-03-28 00:00:00</td>\n",
              "      <td>2020-03-15 00:00:00</td>\n",
              "      <td>2020-03-28 00:00:00</td>\n",
              "      <td>2020-02-12 00:00:00</td>\n",
              "      <td>-</td>\n",
              "      <td>-</td>\n",
              "      <td>-</td>\n",
              "    </tr>\n",
              "  </tbody>\n",
              "</table>\n",
              "</div>"
            ],
            "text/plain": [
              "MEASURE              COUNTRY  ...    visa restrictions\n",
              "0                Afghanistan  ...                    -\n",
              "1                    Albania  ...                    -\n",
              "2                    Algeria  ...                    -\n",
              "3                     Angola  ...  2020-03-01 00:00:00\n",
              "4        Antigua and Barbuda  ...                    -\n",
              "\n",
              "[5 rows x 35 columns]"
            ]
          },
          "metadata": {
            "tags": []
          },
          "execution_count": 35
        }
      ]
    },
    {
      "cell_type": "markdown",
      "metadata": {
        "id": "jyNVK-g3EoRQ",
        "colab_type": "text"
      },
      "source": [
        "## Correlations"
      ]
    },
    {
      "cell_type": "markdown",
      "metadata": {
        "id": "SaHAtx1IQZ2Y",
        "colab_type": "text"
      },
      "source": [
        "### Preprocessing"
      ]
    },
    {
      "cell_type": "code",
      "metadata": {
        "id": "Y7c8zsUSkNiP",
        "colab_type": "code",
        "colab": {}
      },
      "source": [
        "corDF = temp.merge(df, \n",
        "                   left_on=['country_region', 'province_state'], \n",
        "                   right_on=['COUNTRY', 'ADMIN_LEVEL_NAME'], \n",
        "                   how='inner')\\\n",
        "            .drop(columns=['COUNTRY', 'ADMIN_LEVEL_NAME'])"
      ],
      "execution_count": 36,
      "outputs": []
    },
    {
      "cell_type": "code",
      "metadata": {
        "id": "gBBq7zmBKAHr",
        "colab_type": "code",
        "colab": {}
      },
      "source": [
        "corCol = list(corDF.columns[26:])\n",
        "corDF[corCol] = corDF[corCol].apply(lambda x: np.where(x == '-', datetime(2019, 1, 1), x))"
      ],
      "execution_count": 37,
      "outputs": []
    },
    {
      "cell_type": "code",
      "metadata": {
        "id": "OElzOCt6IbvY",
        "colab_type": "code",
        "colab": {}
      },
      "source": [
        "for measure in list(corDF.columns[26:]):\n",
        "  corDF[measure] = (corDF[measure] - pd.to_datetime(corDF.start_date))"
      ],
      "execution_count": 38,
      "outputs": []
    },
    {
      "cell_type": "code",
      "metadata": {
        "id": "qULR9bQJMeHo",
        "colab_type": "code",
        "colab": {}
      },
      "source": [
        "corDF[corCol] = corDF[corCol].astype(int) / 86400000000000"
      ],
      "execution_count": 39,
      "outputs": []
    },
    {
      "cell_type": "code",
      "metadata": {
        "id": "NeyjCeGZJU_l",
        "colab_type": "code",
        "colab": {
          "base_uri": "https://localhost:8080/",
          "height": 83
        },
        "outputId": "53a569ff-344a-493b-8653-a23f7aa55735"
      },
      "source": [
        "corDF[corCol] = corDF[corCol].apply(lambda x: np.where((x > -150) & (x < 0), np.round(-np.log(-x)), x))\n",
        "corDF[corCol] = corDF[corCol].apply(lambda x: np.where(x < -150, float('NaN'), x))"
      ],
      "execution_count": 40,
      "outputs": [
        {
          "output_type": "stream",
          "text": [
            "/usr/local/lib/python3.6/dist-packages/pandas/core/series.py:679: RuntimeWarning: invalid value encountered in log\n",
            "  result = getattr(ufunc, method)(*inputs, **kwargs)\n",
            "/usr/local/lib/python3.6/dist-packages/pandas/core/series.py:679: RuntimeWarning: divide by zero encountered in log\n",
            "  result = getattr(ufunc, method)(*inputs, **kwargs)\n"
          ],
          "name": "stderr"
        }
      ]
    },
    {
      "cell_type": "code",
      "metadata": {
        "id": "zKUjFhEPf0dD",
        "colab_type": "code",
        "colab": {}
      },
      "source": [
        "corDF['after_peak_r'] = corDF.days - corDF.after_peak\n",
        "corDF['after_expeak_r'] = corDF.days - corDF.after_expeak"
      ],
      "execution_count": 41,
      "outputs": []
    },
    {
      "cell_type": "markdown",
      "metadata": {
        "id": "Y4FdDppxOba-",
        "colab_type": "text"
      },
      "source": [
        "### Results"
      ]
    },
    {
      "cell_type": "markdown",
      "metadata": {
        "id": "8PV_sy0bOd2a",
        "colab_type": "text"
      },
      "source": [
        "#### Correlation function"
      ]
    },
    {
      "cell_type": "code",
      "metadata": {
        "id": "-Apqh6Rtzwk6",
        "colab_type": "code",
        "colab": {}
      },
      "source": [
        "def getCorrelation (n, features, score):\n",
        "  global corDF\n",
        "  df = corDF[(corDF.CLUSTER == n)]\n",
        "  df = df[(df.country_region != 'China') | (df.province_state == 'Hubei') | (df.province_state == 'Hong Kong')]\n",
        "  df = df.dropna(thresh=len(df)/4, axis=1)\n",
        "  colCor = list(df.columns[26:-2])\n",
        "  lenColCor = len(list(df.columns[26:-2]))\n",
        "  col = features\n",
        "  correlation = df[col + colCor].corr().drop(columns=col)[:-lenColCor]\n",
        "  return correlation.drop(columns=correlation.columns[(correlation.max() < score) & (correlation.min() > -score)], axis=1)"
      ],
      "execution_count": 42,
      "outputs": []
    },
    {
      "cell_type": "markdown",
      "metadata": {
        "id": "B7AZnA9ROg6x",
        "colab_type": "text"
      },
      "source": [
        "#### Correlation of policies and cluster #0"
      ]
    },
    {
      "cell_type": "code",
      "metadata": {
        "id": "cTkZbnbSICyY",
        "colab_type": "code",
        "colab": {
          "base_uri": "https://localhost:8080/",
          "height": 108
        },
        "outputId": "aabebfc6-871a-45f3-e545-ea07957c58be"
      },
      "source": [
        "getCorrelation (0, ['after_peak_r', 'death_rate'], 0.5)"
      ],
      "execution_count": 43,
      "outputs": [
        {
          "output_type": "execute_result",
          "data": {
            "text/html": [
              "<div>\n",
              "<style scoped>\n",
              "    .dataframe tbody tr th:only-of-type {\n",
              "        vertical-align: middle;\n",
              "    }\n",
              "\n",
              "    .dataframe tbody tr th {\n",
              "        vertical-align: top;\n",
              "    }\n",
              "\n",
              "    .dataframe thead th {\n",
              "        text-align: right;\n",
              "    }\n",
              "</style>\n",
              "<table border=\"1\" class=\"dataframe\">\n",
              "  <thead>\n",
              "    <tr style=\"text-align: right;\">\n",
              "      <th></th>\n",
              "      <th>isolation and quarantine policies</th>\n",
              "      <th>psychological assistance and medical social work</th>\n",
              "      <th>requirement to wear protective gear in public</th>\n",
              "    </tr>\n",
              "  </thead>\n",
              "  <tbody>\n",
              "    <tr>\n",
              "      <th>after_peak_r</th>\n",
              "      <td>0.440507</td>\n",
              "      <td>0.705147</td>\n",
              "      <td>0.655447</td>\n",
              "    </tr>\n",
              "    <tr>\n",
              "      <th>death_rate</th>\n",
              "      <td>0.649389</td>\n",
              "      <td>0.649291</td>\n",
              "      <td>-0.004256</td>\n",
              "    </tr>\n",
              "  </tbody>\n",
              "</table>\n",
              "</div>"
            ],
            "text/plain": [
              "              isolation and quarantine policies  ...  requirement to wear protective gear in public\n",
              "after_peak_r                           0.440507  ...                                       0.655447\n",
              "death_rate                             0.649389  ...                                      -0.004256\n",
              "\n",
              "[2 rows x 3 columns]"
            ]
          },
          "metadata": {
            "tags": []
          },
          "execution_count": 43
        }
      ]
    },
    {
      "cell_type": "markdown",
      "metadata": {
        "id": "h4u3YcRhOlkL",
        "colab_type": "text"
      },
      "source": [
        "#### Correlation of policies and cluster #1"
      ]
    },
    {
      "cell_type": "code",
      "metadata": {
        "id": "IqWP85dQTT1k",
        "colab_type": "code",
        "colab": {
          "base_uri": "https://localhost:8080/",
          "height": 108
        },
        "outputId": "9df35f92-8cdd-4c5d-f57d-cbcff8feaae2"
      },
      "source": [
        "getCorrelation (1, ['after_peak_r', 'death_rate'], 0.4)"
      ],
      "execution_count": 44,
      "outputs": [
        {
          "output_type": "execute_result",
          "data": {
            "text/html": [
              "<div>\n",
              "<style scoped>\n",
              "    .dataframe tbody tr th:only-of-type {\n",
              "        vertical-align: middle;\n",
              "    }\n",
              "\n",
              "    .dataframe tbody tr th {\n",
              "        vertical-align: top;\n",
              "    }\n",
              "\n",
              "    .dataframe thead th {\n",
              "        text-align: right;\n",
              "    }\n",
              "</style>\n",
              "<table border=\"1\" class=\"dataframe\">\n",
              "  <thead>\n",
              "    <tr style=\"text-align: right;\">\n",
              "      <th></th>\n",
              "      <th>curfews</th>\n",
              "      <th>domestic travel restrictions</th>\n",
              "      <th>international flights suspension</th>\n",
              "      <th>isolation and quarantine policies</th>\n",
              "    </tr>\n",
              "  </thead>\n",
              "  <tbody>\n",
              "    <tr>\n",
              "      <th>after_peak_r</th>\n",
              "      <td>0.448319</td>\n",
              "      <td>0.544192</td>\n",
              "      <td>0.316410</td>\n",
              "      <td>0.519294</td>\n",
              "    </tr>\n",
              "    <tr>\n",
              "      <th>death_rate</th>\n",
              "      <td>-0.244856</td>\n",
              "      <td>0.054834</td>\n",
              "      <td>0.442516</td>\n",
              "      <td>-0.073200</td>\n",
              "    </tr>\n",
              "  </tbody>\n",
              "</table>\n",
              "</div>"
            ],
            "text/plain": [
              "               curfews  ...  isolation and quarantine policies\n",
              "after_peak_r  0.448319  ...                           0.519294\n",
              "death_rate   -0.244856  ...                          -0.073200\n",
              "\n",
              "[2 rows x 4 columns]"
            ]
          },
          "metadata": {
            "tags": []
          },
          "execution_count": 44
        }
      ]
    },
    {
      "cell_type": "markdown",
      "metadata": {
        "id": "ioiy3qyOOmhF",
        "colab_type": "text"
      },
      "source": [
        "#### Correlation of policies and cluster #2"
      ]
    },
    {
      "cell_type": "code",
      "metadata": {
        "id": "uL6K94h0-3Ch",
        "colab_type": "code",
        "colab": {
          "base_uri": "https://localhost:8080/",
          "height": 124
        },
        "outputId": "f9d93b96-ee08-4e19-d0d5-87616a8a6746"
      },
      "source": [
        "getCorrelation (2, ['after_peak_r', 'death_rate'], 0.38)"
      ],
      "execution_count": 45,
      "outputs": [
        {
          "output_type": "execute_result",
          "data": {
            "text/html": [
              "<div>\n",
              "<style scoped>\n",
              "    .dataframe tbody tr th:only-of-type {\n",
              "        vertical-align: middle;\n",
              "    }\n",
              "\n",
              "    .dataframe tbody tr th {\n",
              "        vertical-align: top;\n",
              "    }\n",
              "\n",
              "    .dataframe thead th {\n",
              "        text-align: right;\n",
              "    }\n",
              "</style>\n",
              "<table border=\"1\" class=\"dataframe\">\n",
              "  <thead>\n",
              "    <tr style=\"text-align: right;\">\n",
              "      <th></th>\n",
              "      <th>changes in prison-related policies</th>\n",
              "      <th>domestic travel restrictions</th>\n",
              "      <th>isolation and quarantine policies</th>\n",
              "      <th>requirement to wear protective gear in public</th>\n",
              "    </tr>\n",
              "  </thead>\n",
              "  <tbody>\n",
              "    <tr>\n",
              "      <th>after_peak_r</th>\n",
              "      <td>0.488048</td>\n",
              "      <td>0.569322</td>\n",
              "      <td>0.232877</td>\n",
              "      <td>0.225269</td>\n",
              "    </tr>\n",
              "    <tr>\n",
              "      <th>death_rate</th>\n",
              "      <td>0.357419</td>\n",
              "      <td>0.334822</td>\n",
              "      <td>0.448394</td>\n",
              "      <td>0.389556</td>\n",
              "    </tr>\n",
              "  </tbody>\n",
              "</table>\n",
              "</div>"
            ],
            "text/plain": [
              "              changes in prison-related policies  ...  requirement to wear protective gear in public\n",
              "after_peak_r                            0.488048  ...                                       0.225269\n",
              "death_rate                              0.357419  ...                                       0.389556\n",
              "\n",
              "[2 rows x 4 columns]"
            ]
          },
          "metadata": {
            "tags": []
          },
          "execution_count": 45
        }
      ]
    },
    {
      "cell_type": "markdown",
      "metadata": {
        "id": "HF9gLbtzOpSd",
        "colab_type": "text"
      },
      "source": [
        "### Etc."
      ]
    },
    {
      "cell_type": "code",
      "metadata": {
        "id": "DnyiZDGyOxPs",
        "colab_type": "code",
        "colab": {}
      },
      "source": [
        "def getFeatureWithPolicy (n, feature, policy, ascending):\n",
        "  df = corDF[(corDF.CLUSTER == n)]\n",
        "  df = df[(df.country_region != 'China') | (df.province_state == 'Hubei') | (df.province_state == 'Hong Kong')]\n",
        "  df = df.dropna(thresh=len(df)/4, axis=1)\n",
        "  return df[~df[policy].isna()][['country_region', 'province_state', 'days', feature, policy]].sort_values(by='death_rate', ascending=ascending).head(50)"
      ],
      "execution_count": 46,
      "outputs": []
    },
    {
      "cell_type": "code",
      "metadata": {
        "id": "f7TGP0ATPcFU",
        "colab_type": "code",
        "colab": {
          "base_uri": "https://localhost:8080/",
          "height": 1000
        },
        "outputId": "d0933fce-54a9-40fd-ccbd-ea585f32f416"
      },
      "source": [
        "getFeatureWithPolicy(1, 'death_rate', 'psychological assistance and medical social work', False)"
      ],
      "execution_count": 47,
      "outputs": [
        {
          "output_type": "execute_result",
          "data": {
            "text/html": [
              "<div>\n",
              "<style scoped>\n",
              "    .dataframe tbody tr th:only-of-type {\n",
              "        vertical-align: middle;\n",
              "    }\n",
              "\n",
              "    .dataframe tbody tr th {\n",
              "        vertical-align: top;\n",
              "    }\n",
              "\n",
              "    .dataframe thead th {\n",
              "        text-align: right;\n",
              "    }\n",
              "</style>\n",
              "<table border=\"1\" class=\"dataframe\">\n",
              "  <thead>\n",
              "    <tr style=\"text-align: right;\">\n",
              "      <th></th>\n",
              "      <th>country_region</th>\n",
              "      <th>province_state</th>\n",
              "      <th>days</th>\n",
              "      <th>death_rate</th>\n",
              "      <th>psychological assistance and medical social work</th>\n",
              "    </tr>\n",
              "  </thead>\n",
              "  <tbody>\n",
              "    <tr>\n",
              "      <th>215</th>\n",
              "      <td>US</td>\n",
              "      <td>Ohio</td>\n",
              "      <td>81</td>\n",
              "      <td>0.061777</td>\n",
              "      <td>25.0</td>\n",
              "    </tr>\n",
              "    <tr>\n",
              "      <th>194</th>\n",
              "      <td>US</td>\n",
              "      <td>Indiana</td>\n",
              "      <td>80</td>\n",
              "      <td>0.056716</td>\n",
              "      <td>24.0</td>\n",
              "    </tr>\n",
              "    <tr>\n",
              "      <th>209</th>\n",
              "      <td>US</td>\n",
              "      <td>New Hampshire</td>\n",
              "      <td>77</td>\n",
              "      <td>0.056117</td>\n",
              "      <td>21.0</td>\n",
              "    </tr>\n",
              "    <tr>\n",
              "      <th>205</th>\n",
              "      <td>US</td>\n",
              "      <td>Missouri</td>\n",
              "      <td>78</td>\n",
              "      <td>0.055590</td>\n",
              "      <td>22.0</td>\n",
              "    </tr>\n",
              "    <tr>\n",
              "      <th>185</th>\n",
              "      <td>US</td>\n",
              "      <td>Colorado</td>\n",
              "      <td>86</td>\n",
              "      <td>0.054534</td>\n",
              "      <td>30.0</td>\n",
              "    </tr>\n",
              "    <tr>\n",
              "      <th>188</th>\n",
              "      <td>US</td>\n",
              "      <td>District of Columbia</td>\n",
              "      <td>78</td>\n",
              "      <td>0.052400</td>\n",
              "      <td>22.0</td>\n",
              "    </tr>\n",
              "    <tr>\n",
              "      <th>216</th>\n",
              "      <td>US</td>\n",
              "      <td>Oklahoma</td>\n",
              "      <td>76</td>\n",
              "      <td>0.050902</td>\n",
              "      <td>20.0</td>\n",
              "    </tr>\n",
              "    <tr>\n",
              "      <th>227</th>\n",
              "      <td>US</td>\n",
              "      <td>Washington</td>\n",
              "      <td>93</td>\n",
              "      <td>0.048843</td>\n",
              "      <td>37.0</td>\n",
              "    </tr>\n",
              "    <tr>\n",
              "      <th>200</th>\n",
              "      <td>US</td>\n",
              "      <td>Maryland</td>\n",
              "      <td>81</td>\n",
              "      <td>0.048091</td>\n",
              "      <td>25.0</td>\n",
              "    </tr>\n",
              "    <tr>\n",
              "      <th>204</th>\n",
              "      <td>US</td>\n",
              "      <td>Mississippi</td>\n",
              "      <td>79</td>\n",
              "      <td>0.047307</td>\n",
              "      <td>23.0</td>\n",
              "    </tr>\n",
              "    <tr>\n",
              "      <th>193</th>\n",
              "      <td>US</td>\n",
              "      <td>Illinois</td>\n",
              "      <td>84</td>\n",
              "      <td>0.046213</td>\n",
              "      <td>28.0</td>\n",
              "    </tr>\n",
              "    <tr>\n",
              "      <th>208</th>\n",
              "      <td>US</td>\n",
              "      <td>Nevada</td>\n",
              "      <td>80</td>\n",
              "      <td>0.045393</td>\n",
              "      <td>24.0</td>\n",
              "    </tr>\n",
              "    <tr>\n",
              "      <th>211</th>\n",
              "      <td>US</td>\n",
              "      <td>New Mexico</td>\n",
              "      <td>75</td>\n",
              "      <td>0.044295</td>\n",
              "      <td>19.0</td>\n",
              "    </tr>\n",
              "    <tr>\n",
              "      <th>203</th>\n",
              "      <td>US</td>\n",
              "      <td>Minnesota</td>\n",
              "      <td>80</td>\n",
              "      <td>0.042530</td>\n",
              "      <td>24.0</td>\n",
              "    </tr>\n",
              "    <tr>\n",
              "      <th>189</th>\n",
              "      <td>US</td>\n",
              "      <td>Florida</td>\n",
              "      <td>85</td>\n",
              "      <td>0.042228</td>\n",
              "      <td>29.0</td>\n",
              "    </tr>\n",
              "    <tr>\n",
              "      <th>190</th>\n",
              "      <td>US</td>\n",
              "      <td>Georgia</td>\n",
              "      <td>84</td>\n",
              "      <td>0.041988</td>\n",
              "      <td>28.0</td>\n",
              "    </tr>\n",
              "    <tr>\n",
              "      <th>197</th>\n",
              "      <td>US</td>\n",
              "      <td>Kentucky</td>\n",
              "      <td>77</td>\n",
              "      <td>0.041641</td>\n",
              "      <td>21.0</td>\n",
              "    </tr>\n",
              "    <tr>\n",
              "      <th>228</th>\n",
              "      <td>US</td>\n",
              "      <td>West Virginia</td>\n",
              "      <td>72</td>\n",
              "      <td>0.039289</td>\n",
              "      <td>16.0</td>\n",
              "    </tr>\n",
              "    <tr>\n",
              "      <th>199</th>\n",
              "      <td>US</td>\n",
              "      <td>Maine</td>\n",
              "      <td>77</td>\n",
              "      <td>0.038521</td>\n",
              "      <td>21.0</td>\n",
              "    </tr>\n",
              "    <tr>\n",
              "      <th>206</th>\n",
              "      <td>US</td>\n",
              "      <td>Montana</td>\n",
              "      <td>73</td>\n",
              "      <td>0.036232</td>\n",
              "      <td>17.0</td>\n",
              "    </tr>\n",
              "    <tr>\n",
              "      <th>217</th>\n",
              "      <td>US</td>\n",
              "      <td>Oregon</td>\n",
              "      <td>80</td>\n",
              "      <td>0.034586</td>\n",
              "      <td>24.0</td>\n",
              "    </tr>\n",
              "    <tr>\n",
              "      <th>180</th>\n",
              "      <td>US</td>\n",
              "      <td>Alabama</td>\n",
              "      <td>80</td>\n",
              "      <td>0.034117</td>\n",
              "      <td>24.0</td>\n",
              "    </tr>\n",
              "    <tr>\n",
              "      <th>229</th>\n",
              "      <td>US</td>\n",
              "      <td>Wisconsin</td>\n",
              "      <td>82</td>\n",
              "      <td>0.031054</td>\n",
              "      <td>26.0</td>\n",
              "    </tr>\n",
              "    <tr>\n",
              "      <th>226</th>\n",
              "      <td>US</td>\n",
              "      <td>Virginia</td>\n",
              "      <td>80</td>\n",
              "      <td>0.029155</td>\n",
              "      <td>24.0</td>\n",
              "    </tr>\n",
              "    <tr>\n",
              "      <th>195</th>\n",
              "      <td>US</td>\n",
              "      <td>Iowa</td>\n",
              "      <td>77</td>\n",
              "      <td>0.027856</td>\n",
              "      <td>21.0</td>\n",
              "    </tr>\n",
              "    <tr>\n",
              "      <th>214</th>\n",
              "      <td>US</td>\n",
              "      <td>North Dakota</td>\n",
              "      <td>70</td>\n",
              "      <td>0.025166</td>\n",
              "      <td>14.0</td>\n",
              "    </tr>\n",
              "    <tr>\n",
              "      <th>222</th>\n",
              "      <td>US</td>\n",
              "      <td>Tennessee</td>\n",
              "      <td>81</td>\n",
              "      <td>0.015955</td>\n",
              "      <td>25.0</td>\n",
              "    </tr>\n",
              "    <tr>\n",
              "      <th>207</th>\n",
              "      <td>US</td>\n",
              "      <td>Nebraska</td>\n",
              "      <td>72</td>\n",
              "      <td>0.012105</td>\n",
              "      <td>16.0</td>\n",
              "    </tr>\n",
              "    <tr>\n",
              "      <th>221</th>\n",
              "      <td>US</td>\n",
              "      <td>South Dakota</td>\n",
              "      <td>70</td>\n",
              "      <td>0.011953</td>\n",
              "      <td>14.0</td>\n",
              "    </tr>\n",
              "    <tr>\n",
              "      <th>85</th>\n",
              "      <td>Eswatini</td>\n",
              "      <td>-</td>\n",
              "      <td>39</td>\n",
              "      <td>0.009009</td>\n",
              "      <td>16.0</td>\n",
              "    </tr>\n",
              "    <tr>\n",
              "      <th>115</th>\n",
              "      <td>Kuwait</td>\n",
              "      <td>-</td>\n",
              "      <td>86</td>\n",
              "      <td>0.008289</td>\n",
              "      <td>33.0</td>\n",
              "    </tr>\n",
              "    <tr>\n",
              "      <th>168</th>\n",
              "      <td>Sri Lanka</td>\n",
              "      <td>-</td>\n",
              "      <td>76</td>\n",
              "      <td>0.005995</td>\n",
              "      <td>7.0</td>\n",
              "    </tr>\n",
              "    <tr>\n",
              "      <th>112</th>\n",
              "      <td>Kazakhstan</td>\n",
              "      <td>-</td>\n",
              "      <td>74</td>\n",
              "      <td>0.004412</td>\n",
              "      <td>11.0</td>\n",
              "    </tr>\n",
              "    <tr>\n",
              "      <th>162</th>\n",
              "      <td>Singapore</td>\n",
              "      <td>-</td>\n",
              "      <td>100</td>\n",
              "      <td>0.000659</td>\n",
              "      <td>34.0</td>\n",
              "    </tr>\n",
              "  </tbody>\n",
              "</table>\n",
              "</div>"
            ],
            "text/plain": [
              "    country_region  ... psychological assistance and medical social work\n",
              "215             US  ...                                             25.0\n",
              "194             US  ...                                             24.0\n",
              "209             US  ...                                             21.0\n",
              "205             US  ...                                             22.0\n",
              "185             US  ...                                             30.0\n",
              "188             US  ...                                             22.0\n",
              "216             US  ...                                             20.0\n",
              "227             US  ...                                             37.0\n",
              "200             US  ...                                             25.0\n",
              "204             US  ...                                             23.0\n",
              "193             US  ...                                             28.0\n",
              "208             US  ...                                             24.0\n",
              "211             US  ...                                             19.0\n",
              "203             US  ...                                             24.0\n",
              "189             US  ...                                             29.0\n",
              "190             US  ...                                             28.0\n",
              "197             US  ...                                             21.0\n",
              "228             US  ...                                             16.0\n",
              "199             US  ...                                             21.0\n",
              "206             US  ...                                             17.0\n",
              "217             US  ...                                             24.0\n",
              "180             US  ...                                             24.0\n",
              "229             US  ...                                             26.0\n",
              "226             US  ...                                             24.0\n",
              "195             US  ...                                             21.0\n",
              "214             US  ...                                             14.0\n",
              "222             US  ...                                             25.0\n",
              "207             US  ...                                             16.0\n",
              "221             US  ...                                             14.0\n",
              "85        Eswatini  ...                                             16.0\n",
              "115         Kuwait  ...                                             33.0\n",
              "168      Sri Lanka  ...                                              7.0\n",
              "112     Kazakhstan  ...                                             11.0\n",
              "162      Singapore  ...                                             34.0\n",
              "\n",
              "[34 rows x 5 columns]"
            ]
          },
          "metadata": {
            "tags": []
          },
          "execution_count": 47
        }
      ]
    },
    {
      "cell_type": "code",
      "metadata": {
        "id": "rmaIvySkxcRm",
        "colab_type": "code",
        "colab": {}
      },
      "source": [
        ""
      ],
      "execution_count": 47,
      "outputs": []
    }
  ]
}